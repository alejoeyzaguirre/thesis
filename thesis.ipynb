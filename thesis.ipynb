{
 "cells": [
  {
   "cell_type": "code",
   "execution_count": 11,
   "metadata": {
    "id": "hQAn-it1cbx_"
   },
   "outputs": [],
   "source": [
    "import numpy as np\n",
    "import pandas as pd\n",
    "from IPython.display import display "
   ]
  },
  {
   "cell_type": "code",
   "execution_count": null,
   "metadata": {},
   "outputs": [],
   "source": [
    "pip install --upgrade pip"
   ]
  },
  {
   "cell_type": "code",
   "execution_count": null,
   "metadata": {
    "colab": {
     "base_uri": "https://localhost:8080/"
    },
    "id": "1tWPGEEdcoFe",
    "outputId": "26511c07-a3bf-4500-f315-9f5de01d1b87"
   },
   "outputs": [],
   "source": [
    "!pip install pytrends"
   ]
  },
  {
   "cell_type": "code",
   "execution_count": null,
   "metadata": {
    "colab": {
     "base_uri": "https://localhost:8080/"
    },
    "id": "wfYkGRehdRHl",
    "outputId": "38f84e15-7548-42fa-e990-fe750888c38d"
   },
   "outputs": [],
   "source": [
    "pip install --upgrade --user git+https://github.com/GeneralMills/pytrends"
   ]
  },
  {
   "cell_type": "code",
   "execution_count": 12,
   "metadata": {
    "id": "tfAhDxpsdQZ4"
   },
   "outputs": [],
   "source": [
    "import pytrends\n",
    "from pytrends.request import TrendReq"
   ]
  },
  {
   "cell_type": "code",
   "execution_count": 13,
   "metadata": {
    "id": "HU4VtIKsdNas"
   },
   "outputs": [],
   "source": [
    "pytrend = TrendReq(hl='en-US', tz=360)"
   ]
  },
  {
   "cell_type": "code",
   "execution_count": 14,
   "metadata": {
    "id": "3JaSiGWyeBM0"
   },
   "outputs": [],
   "source": [
    "kw_list = ['suicide']"
   ]
  },
  {
   "cell_type": "markdown",
   "metadata": {
    "id": "h4MQrVRneRQX"
   },
   "source": [
    "Minnesota"
   ]
  },
  {
   "cell_type": "code",
   "execution_count": 15,
   "metadata": {
    "id": "y4vFNdL5cqsD"
   },
   "outputs": [],
   "source": [
    "pytrend.build_payload(kw_list, timeframe='2021-09-20 2021-10-18', geo = 'US-MN')\n",
    "dataMN = pytrend.get_historical_interest(kw_list, year_start=2021, month_start=9, day_start=20, hour_start=0, year_end=2021, month_end=10, day_end= 18, hour_end=0, geo = 'US-MN')"
   ]
  },
  {
   "cell_type": "code",
   "execution_count": 16,
   "metadata": {
    "id": "Zd2wCYuvcs5s"
   },
   "outputs": [],
   "source": [
    "dataMN['State']=\"MN\"\n",
    "dataMN['Timezone']=3"
   ]
  },
  {
   "cell_type": "code",
   "execution_count": 17,
   "metadata": {},
   "outputs": [
    {
     "data": {
      "text/html": [
       "<div>\n",
       "<style scoped>\n",
       "    .dataframe tbody tr th:only-of-type {\n",
       "        vertical-align: middle;\n",
       "    }\n",
       "\n",
       "    .dataframe tbody tr th {\n",
       "        vertical-align: top;\n",
       "    }\n",
       "\n",
       "    .dataframe thead th {\n",
       "        text-align: right;\n",
       "    }\n",
       "</style>\n",
       "<table border=\"1\" class=\"dataframe\">\n",
       "  <thead>\n",
       "    <tr style=\"text-align: right;\">\n",
       "      <th></th>\n",
       "      <th>suicide</th>\n",
       "      <th>isPartial</th>\n",
       "      <th>State</th>\n",
       "      <th>Timezone</th>\n",
       "    </tr>\n",
       "    <tr>\n",
       "      <th>date</th>\n",
       "      <th></th>\n",
       "      <th></th>\n",
       "      <th></th>\n",
       "      <th></th>\n",
       "    </tr>\n",
       "  </thead>\n",
       "  <tbody>\n",
       "    <tr>\n",
       "      <th>2021-09-20 00:00:00</th>\n",
       "      <td>0</td>\n",
       "      <td>False</td>\n",
       "      <td>MN</td>\n",
       "      <td>3</td>\n",
       "    </tr>\n",
       "    <tr>\n",
       "      <th>2021-09-20 01:00:00</th>\n",
       "      <td>13</td>\n",
       "      <td>False</td>\n",
       "      <td>MN</td>\n",
       "      <td>3</td>\n",
       "    </tr>\n",
       "    <tr>\n",
       "      <th>2021-09-20 02:00:00</th>\n",
       "      <td>0</td>\n",
       "      <td>False</td>\n",
       "      <td>MN</td>\n",
       "      <td>3</td>\n",
       "    </tr>\n",
       "    <tr>\n",
       "      <th>2021-09-20 03:00:00</th>\n",
       "      <td>13</td>\n",
       "      <td>False</td>\n",
       "      <td>MN</td>\n",
       "      <td>3</td>\n",
       "    </tr>\n",
       "    <tr>\n",
       "      <th>2021-09-20 04:00:00</th>\n",
       "      <td>0</td>\n",
       "      <td>False</td>\n",
       "      <td>MN</td>\n",
       "      <td>3</td>\n",
       "    </tr>\n",
       "    <tr>\n",
       "      <th>...</th>\n",
       "      <td>...</td>\n",
       "      <td>...</td>\n",
       "      <td>...</td>\n",
       "      <td>...</td>\n",
       "    </tr>\n",
       "    <tr>\n",
       "      <th>2021-10-17 21:00:00</th>\n",
       "      <td>0</td>\n",
       "      <td>False</td>\n",
       "      <td>MN</td>\n",
       "      <td>3</td>\n",
       "    </tr>\n",
       "    <tr>\n",
       "      <th>2021-10-17 22:00:00</th>\n",
       "      <td>12</td>\n",
       "      <td>False</td>\n",
       "      <td>MN</td>\n",
       "      <td>3</td>\n",
       "    </tr>\n",
       "    <tr>\n",
       "      <th>2021-10-17 23:00:00</th>\n",
       "      <td>0</td>\n",
       "      <td>False</td>\n",
       "      <td>MN</td>\n",
       "      <td>3</td>\n",
       "    </tr>\n",
       "    <tr>\n",
       "      <th>2021-10-18 00:00:00</th>\n",
       "      <td>7</td>\n",
       "      <td>False</td>\n",
       "      <td>MN</td>\n",
       "      <td>3</td>\n",
       "    </tr>\n",
       "    <tr>\n",
       "      <th>2021-10-18 00:00:00</th>\n",
       "      <td>5</td>\n",
       "      <td>False</td>\n",
       "      <td>MN</td>\n",
       "      <td>3</td>\n",
       "    </tr>\n",
       "  </tbody>\n",
       "</table>\n",
       "<p>677 rows × 4 columns</p>\n",
       "</div>"
      ],
      "text/plain": [
       "                     suicide  isPartial State  Timezone\n",
       "date                                                   \n",
       "2021-09-20 00:00:00        0      False    MN         3\n",
       "2021-09-20 01:00:00       13      False    MN         3\n",
       "2021-09-20 02:00:00        0      False    MN         3\n",
       "2021-09-20 03:00:00       13      False    MN         3\n",
       "2021-09-20 04:00:00        0      False    MN         3\n",
       "...                      ...        ...   ...       ...\n",
       "2021-10-17 21:00:00        0      False    MN         3\n",
       "2021-10-17 22:00:00       12      False    MN         3\n",
       "2021-10-17 23:00:00        0      False    MN         3\n",
       "2021-10-18 00:00:00        7      False    MN         3\n",
       "2021-10-18 00:00:00        5      False    MN         3\n",
       "\n",
       "[677 rows x 4 columns]"
      ]
     },
     "execution_count": 17,
     "metadata": {},
     "output_type": "execute_result"
    }
   ],
   "source": [
    "dataMN"
   ]
  },
  {
   "cell_type": "markdown",
   "metadata": {
    "id": "mKjBX3uHeSrV"
   },
   "source": [
    "Kentucky"
   ]
  },
  {
   "cell_type": "code",
   "execution_count": 8,
   "metadata": {
    "id": "ROTK4u5YeaWp"
   },
   "outputs": [
    {
     "name": "stdout",
     "output_type": "stream",
     "text": [
      "The request failed: Google returned a response with code 500.\n",
      "The request failed: Google returned a response with code 500.\n"
     ]
    }
   ],
   "source": [
    "pytrend.build_payload(kw_list, timeframe='2021-09-20 2021-10-18', geo = 'US-KY')\n",
    "dataKY = pytrend.get_historical_interest(kw_list, year_start=2021, month_start=9, day_start=20, hour_start=0, year_end=2021, month_end=10, day_end= 18, hour_end=0, geo = 'US-KY')"
   ]
  },
  {
   "cell_type": "code",
   "execution_count": 9,
   "metadata": {
    "id": "8KVuwbZBeaaj"
   },
   "outputs": [],
   "source": [
    "dataKY['State']=\"KY\"\n",
    "dataKY['Timezone']=4"
   ]
  },
  {
   "cell_type": "code",
   "execution_count": 10,
   "metadata": {},
   "outputs": [
    {
     "data": {
      "text/html": [
       "<div>\n",
       "<style scoped>\n",
       "    .dataframe tbody tr th:only-of-type {\n",
       "        vertical-align: middle;\n",
       "    }\n",
       "\n",
       "    .dataframe tbody tr th {\n",
       "        vertical-align: top;\n",
       "    }\n",
       "\n",
       "    .dataframe thead th {\n",
       "        text-align: right;\n",
       "    }\n",
       "</style>\n",
       "<table border=\"1\" class=\"dataframe\">\n",
       "  <thead>\n",
       "    <tr style=\"text-align: right;\">\n",
       "      <th></th>\n",
       "      <th>suicide</th>\n",
       "      <th>isPartial</th>\n",
       "      <th>State</th>\n",
       "      <th>Timezone</th>\n",
       "    </tr>\n",
       "    <tr>\n",
       "      <th>date</th>\n",
       "      <th></th>\n",
       "      <th></th>\n",
       "      <th></th>\n",
       "      <th></th>\n",
       "    </tr>\n",
       "  </thead>\n",
       "  <tbody>\n",
       "    <tr>\n",
       "      <th>2021-09-20 00:00:00</th>\n",
       "      <td>0</td>\n",
       "      <td>False</td>\n",
       "      <td>KY</td>\n",
       "      <td>4</td>\n",
       "    </tr>\n",
       "    <tr>\n",
       "      <th>2021-09-20 01:00:00</th>\n",
       "      <td>0</td>\n",
       "      <td>False</td>\n",
       "      <td>KY</td>\n",
       "      <td>4</td>\n",
       "    </tr>\n",
       "    <tr>\n",
       "      <th>2021-09-20 02:00:00</th>\n",
       "      <td>0</td>\n",
       "      <td>False</td>\n",
       "      <td>KY</td>\n",
       "      <td>4</td>\n",
       "    </tr>\n",
       "    <tr>\n",
       "      <th>2021-09-20 03:00:00</th>\n",
       "      <td>0</td>\n",
       "      <td>False</td>\n",
       "      <td>KY</td>\n",
       "      <td>4</td>\n",
       "    </tr>\n",
       "    <tr>\n",
       "      <th>2021-09-20 04:00:00</th>\n",
       "      <td>18</td>\n",
       "      <td>False</td>\n",
       "      <td>KY</td>\n",
       "      <td>4</td>\n",
       "    </tr>\n",
       "    <tr>\n",
       "      <th>...</th>\n",
       "      <td>...</td>\n",
       "      <td>...</td>\n",
       "      <td>...</td>\n",
       "      <td>...</td>\n",
       "    </tr>\n",
       "    <tr>\n",
       "      <th>2021-10-03 21:00:00</th>\n",
       "      <td>20</td>\n",
       "      <td>False</td>\n",
       "      <td>KY</td>\n",
       "      <td>4</td>\n",
       "    </tr>\n",
       "    <tr>\n",
       "      <th>2021-10-03 22:00:00</th>\n",
       "      <td>0</td>\n",
       "      <td>False</td>\n",
       "      <td>KY</td>\n",
       "      <td>4</td>\n",
       "    </tr>\n",
       "    <tr>\n",
       "      <th>2021-10-03 23:00:00</th>\n",
       "      <td>29</td>\n",
       "      <td>False</td>\n",
       "      <td>KY</td>\n",
       "      <td>4</td>\n",
       "    </tr>\n",
       "    <tr>\n",
       "      <th>2021-10-04 00:00:00</th>\n",
       "      <td>0</td>\n",
       "      <td>False</td>\n",
       "      <td>KY</td>\n",
       "      <td>4</td>\n",
       "    </tr>\n",
       "    <tr>\n",
       "      <th>2021-10-18 00:00:00</th>\n",
       "      <td>0</td>\n",
       "      <td>False</td>\n",
       "      <td>KY</td>\n",
       "      <td>4</td>\n",
       "    </tr>\n",
       "  </tbody>\n",
       "</table>\n",
       "<p>339 rows × 4 columns</p>\n",
       "</div>"
      ],
      "text/plain": [
       "                     suicide  isPartial State  Timezone\n",
       "date                                                   \n",
       "2021-09-20 00:00:00        0      False    KY         4\n",
       "2021-09-20 01:00:00        0      False    KY         4\n",
       "2021-09-20 02:00:00        0      False    KY         4\n",
       "2021-09-20 03:00:00        0      False    KY         4\n",
       "2021-09-20 04:00:00       18      False    KY         4\n",
       "...                      ...        ...   ...       ...\n",
       "2021-10-03 21:00:00       20      False    KY         4\n",
       "2021-10-03 22:00:00        0      False    KY         4\n",
       "2021-10-03 23:00:00       29      False    KY         4\n",
       "2021-10-04 00:00:00        0      False    KY         4\n",
       "2021-10-18 00:00:00        0      False    KY         4\n",
       "\n",
       "[339 rows x 4 columns]"
      ]
     },
     "execution_count": 10,
     "metadata": {},
     "output_type": "execute_result"
    }
   ],
   "source": [
    "dataKY"
   ]
  },
  {
   "cell_type": "markdown",
   "metadata": {
    "id": "3Qn55i9ie0rn"
   },
   "source": [
    "Alabama"
   ]
  },
  {
   "cell_type": "code",
   "execution_count": null,
   "metadata": {
    "id": "a6Nk-4hye03r"
   },
   "outputs": [],
   "source": [
    "pytrend.build_payload(kw_list, timeframe='2021-09-20 2021-10-18', geo = 'US-AL')\n",
    "dataAL = pytrend.get_historical_interest(kw_list, year_start=2021, month_start=9, day_start=20, hour_start=0, year_end=2021, month_end=10, day_end= 18, hour_end=0, geo = 'US-AL')"
   ]
  },
  {
   "cell_type": "code",
   "execution_count": null,
   "metadata": {
    "id": "luFNaIO8e06X"
   },
   "outputs": [],
   "source": [
    "dataAL['State']=\"AL\"\n",
    "dataAL['Timezone']=3"
   ]
  },
  {
   "cell_type": "markdown",
   "metadata": {
    "id": "InKNkbwufMIi"
   },
   "source": [
    "Arkansas"
   ]
  },
  {
   "cell_type": "code",
   "execution_count": null,
   "metadata": {
    "id": "ly6ux3gKfMVK"
   },
   "outputs": [],
   "source": [
    "pytrend.build_payload(kw_list, timeframe='2021-09-20 2021-10-18', geo = 'US-AR')\n",
    "dataAR = pytrend.get_historical_interest(kw_list, year_start=2021, month_start=9, day_start=20, hour_start=0, year_end=2021, month_end=10, day_end= 18, hour_end=0, geo = 'US-AR')"
   ]
  },
  {
   "cell_type": "code",
   "execution_count": null,
   "metadata": {
    "id": "Dz35HM8PfMa6"
   },
   "outputs": [],
   "source": [
    "dataAR['State']=\"AR\"\n",
    "dataAR['Timezone']=3"
   ]
  },
  {
   "cell_type": "markdown",
   "metadata": {
    "id": "9oiCT4uFffAF"
   },
   "source": [
    "Iowa"
   ]
  },
  {
   "cell_type": "code",
   "execution_count": null,
   "metadata": {
    "id": "dg3olCkUffLR"
   },
   "outputs": [],
   "source": [
    "pytrend.build_payload(kw_list, timeframe='2021-09-20 2021-10-18', geo = 'US-IA')\n",
    "dataIA = pytrend.get_historical_interest(kw_list, year_start=2021, month_start=9, day_start=20, hour_start=0, year_end=2021, month_end=10, day_end= 18, hour_end=0, geo = 'US-IA')"
   ]
  },
  {
   "cell_type": "code",
   "execution_count": null,
   "metadata": {
    "id": "oMpSFOjOffRQ"
   },
   "outputs": [],
   "source": [
    "dataIA['State']=\"IA\"\n",
    "dataIA['Timezone']=3"
   ]
  },
  {
   "cell_type": "markdown",
   "metadata": {
    "id": "W0e2ktx8gTbI"
   },
   "source": [
    "North Dakota"
   ]
  },
  {
   "cell_type": "code",
   "execution_count": null,
   "metadata": {
    "id": "cWQe4p0YgTlT"
   },
   "outputs": [],
   "source": [
    "pytrend.build_payload(kw_list, timeframe='2021-09-20 2021-10-18', geo = 'US-ND')\n",
    "dataND = pytrend.get_historical_interest(kw_list, year_start=2021, month_start=9, day_start=20, hour_start=0, year_end=2021, month_end=10, day_end= 18, hour_end=0, geo = 'US-ND')"
   ]
  },
  {
   "cell_type": "code",
   "execution_count": null,
   "metadata": {
    "id": "j5iCHyVegSwD"
   },
   "outputs": [],
   "source": [
    "dataND['State']=\"ND\"\n",
    "dataND['Timezone']=3"
   ]
  },
  {
   "cell_type": "markdown",
   "metadata": {
    "id": "5K5B7w-Ugq3e"
   },
   "source": [
    "Indiana"
   ]
  },
  {
   "cell_type": "code",
   "execution_count": null,
   "metadata": {
    "id": "Z_er7xcsgrA7"
   },
   "outputs": [],
   "source": [
    "pytrend.build_payload(kw_list, timeframe='2021-09-20 2021-10-18', geo = 'US-IN')\n",
    "dataIN = pytrend.get_historical_interest(kw_list, year_start=2021, month_start=9, day_start=20, hour_start=0, year_end=2021, month_end=10, day_end= 18, hour_end=0, geo = 'US-IN')"
   ]
  },
  {
   "cell_type": "code",
   "execution_count": null,
   "metadata": {
    "id": "jf6EOdJHgrHM"
   },
   "outputs": [],
   "source": [
    "dataIN['State']=\"IN\"\n",
    "dataIN['Timezone']=4"
   ]
  },
  {
   "cell_type": "markdown",
   "metadata": {
    "id": "c_V8TeXBg6cg"
   },
   "source": [
    "South Carolina"
   ]
  },
  {
   "cell_type": "code",
   "execution_count": null,
   "metadata": {
    "id": "GZzGll5yg6k3"
   },
   "outputs": [],
   "source": [
    "pytrend.build_payload(kw_list, timeframe='2021-09-20 2021-10-18', geo = 'US-SC')\n",
    "dataSC = pytrend.get_historical_interest(kw_list, year_start=2021, month_start=9, day_start=20, hour_start=0, year_end=2021, month_end=10, day_end= 18, hour_end=0, geo = 'US-SC')"
   ]
  },
  {
   "cell_type": "code",
   "execution_count": null,
   "metadata": {
    "id": "VgmBVgeMg6r0"
   },
   "outputs": [],
   "source": [
    "dataSC['State']=\"SC\"\n",
    "dataSC['Timezone']=4"
   ]
  },
  {
   "cell_type": "markdown",
   "metadata": {
    "id": "CaIC4yTrhFmO"
   },
   "source": [
    "Virginia"
   ]
  },
  {
   "cell_type": "code",
   "execution_count": null,
   "metadata": {
    "id": "bFXqpu41hFut"
   },
   "outputs": [],
   "source": [
    "pytrend.build_payload(kw_list, timeframe='2021-09-20 2021-10-18', geo = 'US-VA')\n",
    "dataVA = pytrend.get_historical_interest(kw_list, year_start=2021, month_start=9, day_start=20, hour_start=0, year_end=2021, month_end=10, day_end= 18, hour_end=0, geo = 'US-VA')"
   ]
  },
  {
   "cell_type": "code",
   "execution_count": null,
   "metadata": {
    "id": "eO5FGsBfhFzL"
   },
   "outputs": [],
   "source": [
    "dataVA['State']=\"VA\"\n",
    "dataVA['Timezone']=4"
   ]
  },
  {
   "cell_type": "markdown",
   "metadata": {
    "id": "Gbd3D3FFhZp2"
   },
   "source": [
    "Massachussets"
   ]
  },
  {
   "cell_type": "code",
   "execution_count": null,
   "metadata": {
    "id": "ZWZVLaxIhZ0t"
   },
   "outputs": [],
   "source": [
    "pytrend.build_payload(kw_list, timeframe='2021-09-20 2021-10-18', geo = 'US-MA')\n",
    "dataMA = pytrend.get_historical_interest(kw_list, year_start=2021, month_start=9, day_start=20, hour_start=0, year_end=2021, month_end=10, day_end= 18, hour_end=0, geo = 'US-MA')"
   ]
  },
  {
   "cell_type": "code",
   "execution_count": null,
   "metadata": {
    "id": "9y1sNNQ5hZ8w"
   },
   "outputs": [],
   "source": [
    "dataMA['State']=\"MA\"\n",
    "dataMA['Timezone']=4"
   ]
  },
  {
   "cell_type": "markdown",
   "metadata": {
    "id": "d4vY14kyhr84"
   },
   "source": [
    "Michigan"
   ]
  },
  {
   "cell_type": "code",
   "execution_count": null,
   "metadata": {
    "id": "zuaupeH2hsFK"
   },
   "outputs": [],
   "source": [
    "pytrend.build_payload(kw_list, timeframe='2021-09-20 2021-10-18', geo = 'US-MA')\n",
    "dataMA = pytrend.get_historical_interest(kw_list, year_start=2021, month_start=9, day_start=20, hour_start=0, year_end=2021, month_end=10, day_end= 18, hour_end=0, geo = 'US-MA')"
   ]
  },
  {
   "cell_type": "code",
   "execution_count": null,
   "metadata": {
    "id": "A6-VRjLehsIZ"
   },
   "outputs": [],
   "source": [
    "dataMA['State']=\"MA\"\n",
    "dataMA['Timezone']=4"
   ]
  },
  {
   "cell_type": "markdown",
   "metadata": {
    "id": "_2ZbwI6rh7tF"
   },
   "source": [
    "Michigan"
   ]
  },
  {
   "cell_type": "code",
   "execution_count": null,
   "metadata": {
    "id": "e8LOtdCrh73F"
   },
   "outputs": [],
   "source": [
    "pytrend.build_payload(kw_list, timeframe='2021-09-20 2021-10-18', geo = 'US-MI')\n",
    "dataMI = pytrend.get_historical_interest(kw_list, year_start=2021, month_start=9, day_start=20, hour_start=0, year_end=2021, month_end=10, day_end= 18, hour_end=0, geo = 'US-MI')"
   ]
  },
  {
   "cell_type": "code",
   "execution_count": null,
   "metadata": {
    "id": "fkTKCns_h76b"
   },
   "outputs": [],
   "source": [
    "dataMI['State']=\"MI\"\n",
    "dataMI['Timezone']=4"
   ]
  },
  {
   "cell_type": "markdown",
   "metadata": {
    "id": "MeZT2DQMiQl9"
   },
   "source": [
    "Colorado"
   ]
  },
  {
   "cell_type": "code",
   "execution_count": null,
   "metadata": {
    "id": "ZDgIW3lAiQwt"
   },
   "outputs": [],
   "source": [
    "pytrend.build_payload(kw_list, timeframe='2021-09-20 2021-10-18', geo = 'US-CO')\n",
    "dataCO = pytrend.get_historical_interest(kw_list, year_start=2021, month_start=9, day_start=20, hour_start=0, year_end=2021, month_end=10, day_end= 18, hour_end=0, geo = 'US-CO')"
   ]
  },
  {
   "cell_type": "code",
   "execution_count": null,
   "metadata": {
    "id": "3Tk4MdM-iQzZ"
   },
   "outputs": [],
   "source": [
    "dataCO['State']=\"CO\"\n",
    "dataCO['Timezone']=2"
   ]
  },
  {
   "cell_type": "markdown",
   "metadata": {
    "id": "In7vO50oir82"
   },
   "source": [
    "Nevada"
   ]
  },
  {
   "cell_type": "code",
   "execution_count": null,
   "metadata": {
    "id": "yZkKYIsbiwu7"
   },
   "outputs": [],
   "source": [
    "pytrend.build_payload(kw_list, timeframe='2021-09-20 2021-10-18', geo = 'US-NV')\n",
    "dataNV = pytrend.get_historical_interest(kw_list, year_start=2021, month_start=9, day_start=20, hour_start=0, year_end=2021, month_end=10, day_end= 18, hour_end=0, geo = 'US-NV')"
   ]
  },
  {
   "cell_type": "code",
   "execution_count": null,
   "metadata": {
    "id": "qhITIwSaiw4E"
   },
   "outputs": [],
   "source": [
    "dataNV['State']=\"NV\"\n",
    "dataNV['Timezone']=1"
   ]
  },
  {
   "cell_type": "markdown",
   "metadata": {
    "id": "CImObXEdjE_O"
   },
   "source": [
    "Oklahoma"
   ]
  },
  {
   "cell_type": "code",
   "execution_count": null,
   "metadata": {
    "id": "NqjFgf0TjFHu"
   },
   "outputs": [],
   "source": [
    "pytrend.build_payload(kw_list, timeframe='2021-09-20 2021-10-18', geo = 'US-OK')\n",
    "dataOK = pytrend.get_historical_interest(kw_list, year_start=2021, month_start=9, day_start=20, hour_start=0, year_end=2021, month_end=10, day_end= 18, hour_end=0, geo = 'US-OK')"
   ]
  },
  {
   "cell_type": "code",
   "execution_count": null,
   "metadata": {
    "id": "yb5j9JJQjFKm"
   },
   "outputs": [],
   "source": [
    "dataOK['State']=\"OK\"\n",
    "dataOK['Timezone']=3"
   ]
  },
  {
   "cell_type": "markdown",
   "metadata": {
    "id": "GeOD8hS9kcSg"
   },
   "source": [
    "Pennsylvania"
   ]
  },
  {
   "cell_type": "code",
   "execution_count": null,
   "metadata": {
    "id": "VLEOzMUhkcb_"
   },
   "outputs": [],
   "source": [
    "pytrend.build_payload(kw_list, timeframe='2021-09-20 2021-10-18', geo = 'US-PA')\n",
    "dataPA = pytrend.get_historical_interest(kw_list, year_start=2021, month_start=9, day_start=20, hour_start=0, year_end=2021, month_end=10, day_end= 18, hour_end=0, geo = 'US-PA')"
   ]
  },
  {
   "cell_type": "code",
   "execution_count": null,
   "metadata": {
    "id": "46rqhRCUkce2"
   },
   "outputs": [],
   "source": [
    "dataPA['State']=\"PA\"\n",
    "dataPA['Timezone']=4"
   ]
  },
  {
   "cell_type": "markdown",
   "metadata": {
    "id": "cQmxdQ87kyqE"
   },
   "source": [
    "Ohio"
   ]
  },
  {
   "cell_type": "code",
   "execution_count": null,
   "metadata": {
    "id": "xeBaye9zkyyq"
   },
   "outputs": [],
   "source": [
    "pytrend.build_payload(kw_list, timeframe='2021-09-20 2021-10-18', geo = 'US-OH')\n",
    "dataOH = pytrend.get_historical_interest(kw_list, year_start=2021, month_start=9, day_start=20, hour_start=0, year_end=2021, month_end=10, day_end= 18, hour_end=0, geo = 'US-OH')"
   ]
  },
  {
   "cell_type": "code",
   "execution_count": null,
   "metadata": {
    "id": "tu3oqWiCky2L"
   },
   "outputs": [],
   "source": [
    "dataOH['State']=\"OH\"\n",
    "dataOH['Timezone']=4"
   ]
  },
  {
   "cell_type": "markdown",
   "metadata": {
    "id": "moN2rBN2lSqD"
   },
   "source": [
    "New Jersey"
   ]
  },
  {
   "cell_type": "code",
   "execution_count": null,
   "metadata": {
    "id": "Hz3ayJeqlSy7"
   },
   "outputs": [],
   "source": [
    "pytrend.build_payload(kw_list, timeframe='2021-09-20 2021-10-18', geo = 'US-NJ')\n",
    "dataNJ = pytrend.get_historical_interest(kw_list, year_start=2021, month_start=9, day_start=20, hour_start=0, year_end=2021, month_end=10, day_end= 18, hour_end=0, geo = 'US-NJ')"
   ]
  },
  {
   "cell_type": "code",
   "execution_count": null,
   "metadata": {
    "id": "NakjE0VilS2J"
   },
   "outputs": [],
   "source": [
    "dataNJ['State']=\"NJ\"\n",
    "dataNJ['Timezone']=4"
   ]
  },
  {
   "cell_type": "markdown",
   "metadata": {
    "id": "utmJHtosmBlg"
   },
   "source": [
    "West Virginia"
   ]
  },
  {
   "cell_type": "code",
   "execution_count": null,
   "metadata": {
    "id": "yhMst8qGmBvN"
   },
   "outputs": [],
   "source": [
    "pytrend.build_payload(kw_list, timeframe='2021-09-20 2021-10-18', geo = 'US-WV')\n",
    "dataWV = pytrend.get_historical_interest(kw_list, year_start=2021, month_start=9, day_start=20, hour_start=0, year_end=2021, month_end=10, day_end= 18, hour_end=0, geo = 'US-WV')"
   ]
  },
  {
   "cell_type": "code",
   "execution_count": null,
   "metadata": {
    "id": "Pd4iHqxjmByO"
   },
   "outputs": [],
   "source": [
    "dataWV['State']=\"WV\"\n",
    "dataWV['Timezone']=4"
   ]
  },
  {
   "cell_type": "markdown",
   "metadata": {
    "id": "8bOFIEqknHCi"
   },
   "source": [
    "Vermont"
   ]
  },
  {
   "cell_type": "code",
   "execution_count": null,
   "metadata": {
    "id": "0LjtkOahnHL2"
   },
   "outputs": [],
   "source": [
    "pytrend.build_payload(kw_list, timeframe='2021-09-20 2021-10-18', geo = 'US-VT')\n",
    "dataVT = pytrend.get_historical_interest(kw_list, year_start=2021, month_start=9, day_start=20, hour_start=0, year_end=2021, month_end=10, day_end= 18, hour_end=0, geo = 'US-VT')"
   ]
  },
  {
   "cell_type": "code",
   "execution_count": null,
   "metadata": {
    "id": "i2v_nMAgnHPA"
   },
   "outputs": [],
   "source": [
    "dataVT['State']=\"VT\"\n",
    "dataVT['Timezone']=4"
   ]
  },
  {
   "cell_type": "markdown",
   "metadata": {
    "id": "j2UJKjvknYXU"
   },
   "source": [
    "New Hampshire"
   ]
  },
  {
   "cell_type": "code",
   "execution_count": null,
   "metadata": {
    "id": "y6MRTxdHnYhq"
   },
   "outputs": [],
   "source": [
    "pytrend.build_payload(kw_list, timeframe='2021-09-20 2021-10-18', geo = 'US-NH')\n",
    "dataNH = pytrend.get_historical_interest(kw_list, year_start=2021, month_start=9, day_start=20, hour_start=0, year_end=2021, month_end=10, day_end= 18, hour_end=0, geo = 'US-NH')"
   ]
  },
  {
   "cell_type": "code",
   "execution_count": null,
   "metadata": {
    "id": "xtv7G0S2nYkg"
   },
   "outputs": [],
   "source": [
    "dataNH['State']=\"NH\"\n",
    "dataNH['Timezone']=4"
   ]
  },
  {
   "cell_type": "markdown",
   "metadata": {
    "id": "kr0kuJaTnmFN"
   },
   "source": [
    "Maine"
   ]
  },
  {
   "cell_type": "code",
   "execution_count": null,
   "metadata": {
    "id": "FDFX_anmnmO-"
   },
   "outputs": [],
   "source": [
    "pytrend.build_payload(kw_list, timeframe='2021-09-20 2021-10-18', geo = 'US-ME')\n",
    "dataME = pytrend.get_historical_interest(kw_list, year_start=2021, month_start=9, day_start=20, hour_start=0, year_end=2021, month_end=10, day_end= 18, hour_end=0, geo = 'US-ME')"
   ]
  },
  {
   "cell_type": "code",
   "execution_count": null,
   "metadata": {
    "id": "ZW66D_rbnmVw"
   },
   "outputs": [],
   "source": [
    "dataME['State']=\"ME\"\n",
    "dataME['Timezone']=4"
   ]
  },
  {
   "cell_type": "markdown",
   "metadata": {
    "id": "P1SKkuLDn_u1"
   },
   "source": [
    "Rhode Island"
   ]
  },
  {
   "cell_type": "code",
   "execution_count": null,
   "metadata": {
    "id": "Dl_AI87cn_5f"
   },
   "outputs": [],
   "source": [
    "pytrend.build_payload(kw_list, timeframe='2021-09-20 2021-10-18', geo = 'US-RI')\n",
    "dataRI = pytrend.get_historical_interest(kw_list, year_start=2021, month_start=9, day_start=20, hour_start=0, year_end=2021, month_end=10, day_end= 18, hour_end=0, geo = 'US-RI')"
   ]
  },
  {
   "cell_type": "code",
   "execution_count": null,
   "metadata": {
    "id": "rKZzJlqHn_8p"
   },
   "outputs": [],
   "source": [
    "dataRI['State']=\"RI\"\n",
    "dataRI['Timezone']=4"
   ]
  },
  {
   "cell_type": "markdown",
   "metadata": {
    "id": "MZX5B3NHoa3O"
   },
   "source": [
    "North Carolina"
   ]
  },
  {
   "cell_type": "code",
   "execution_count": null,
   "metadata": {
    "id": "TN9o2it_obBK"
   },
   "outputs": [],
   "source": [
    "pytrend.build_payload(kw_list, timeframe='2021-09-20 2021-10-18', geo = 'US-NC')\n",
    "dataNC = pytrend.get_historical_interest(kw_list, year_start=2021, month_start=9, day_start=20, hour_start=0, year_end=2021, month_end=10, day_end= 18, hour_end=0, geo = 'US-NC')"
   ]
  },
  {
   "cell_type": "code",
   "execution_count": null,
   "metadata": {
    "id": "mPupUKfrobEN"
   },
   "outputs": [],
   "source": [
    "dataNC['State']=\"NC\"\n",
    "dataNC['Timezone']=4"
   ]
  },
  {
   "cell_type": "markdown",
   "metadata": {
    "id": "mPdPZMcXotpf"
   },
   "source": [
    "Utah"
   ]
  },
  {
   "cell_type": "code",
   "execution_count": null,
   "metadata": {
    "id": "tJ9PUIkMotze"
   },
   "outputs": [],
   "source": [
    "pytrend.build_payload(kw_list, timeframe='2021-09-20 2021-10-18', geo = 'US-UT')\n",
    "dataUT = pytrend.get_historical_interest(kw_list, year_start=2021, month_start=9, day_start=20, hour_start=0, year_end=2021, month_end=10, day_end= 18, hour_end=0, geo = 'US-UT')"
   ]
  },
  {
   "cell_type": "code",
   "execution_count": null,
   "metadata": {
    "id": "w1QuPYDXot3K"
   },
   "outputs": [],
   "source": [
    "dataUT['State']=\"UT\"\n",
    "dataUT['Timezone']=2"
   ]
  },
  {
   "cell_type": "markdown",
   "metadata": {
    "id": "rqWhA31_pCmv"
   },
   "source": [
    "Wisconsin"
   ]
  },
  {
   "cell_type": "code",
   "execution_count": null,
   "metadata": {
    "id": "dyZcpk8spC2Y"
   },
   "outputs": [],
   "source": [
    "pytrend.build_payload(kw_list, timeframe='2021-09-20 2021-10-18', geo = 'US-WI')\n",
    "dataWI = pytrend.get_historical_interest(kw_list, year_start=2021, month_start=9, day_start=20, hour_start=0, year_end=2021, month_end=10, day_end= 18, hour_end=0, geo = 'US-WI')"
   ]
  },
  {
   "cell_type": "code",
   "execution_count": null,
   "metadata": {
    "id": "5HTSmHpDpDAG"
   },
   "outputs": [],
   "source": [
    "dataWI['State']=\"WI\"\n",
    "dataWI['Timezone']=3"
   ]
  },
  {
   "cell_type": "markdown",
   "metadata": {
    "id": "rJWH1_RppZiR"
   },
   "source": [
    "Delaware"
   ]
  },
  {
   "cell_type": "code",
   "execution_count": null,
   "metadata": {
    "id": "HOIawrmTpZtb"
   },
   "outputs": [],
   "source": [
    "pytrend.build_payload(kw_list, timeframe='2021-09-20 2021-10-18', geo = 'US-DE')\n",
    "dataDE = pytrend.get_historical_interest(kw_list, year_start=2021, month_start=9, day_start=20, hour_start=0, year_end=2021, month_end=10, day_end= 18, hour_end=0, geo = 'US-DE')"
   ]
  },
  {
   "cell_type": "code",
   "execution_count": null,
   "metadata": {
    "id": "9CilNrabpZvp"
   },
   "outputs": [],
   "source": [
    "dataDE['State']=\"DE\"\n",
    "dataDE['Timezone']=4"
   ]
  },
  {
   "cell_type": "markdown",
   "metadata": {
    "id": "EbX-ymxKpveg"
   },
   "source": [
    "Connecticut"
   ]
  },
  {
   "cell_type": "code",
   "execution_count": null,
   "metadata": {
    "id": "_97-TOTzpvoU"
   },
   "outputs": [],
   "source": [
    "pytrend.build_payload(kw_list, timeframe='2021-09-20 2021-10-18', geo = 'US-CT')\n",
    "dataCT = pytrend.get_historical_interest(kw_list, year_start=2021, month_start=9, day_start=20, hour_start=0, year_end=2021, month_end=10, day_end= 18, hour_end=0, geo = 'US-CT')"
   ]
  },
  {
   "cell_type": "code",
   "execution_count": null,
   "metadata": {
    "id": "5sGvriojpvu9"
   },
   "outputs": [],
   "source": [
    "dataCT['State']=\"CT\"\n",
    "dataCT['Timezone']=4"
   ]
  },
  {
   "cell_type": "markdown",
   "metadata": {
    "id": "6Bez8MdXqDJ1"
   },
   "source": [
    "Tennessee"
   ]
  },
  {
   "cell_type": "code",
   "execution_count": null,
   "metadata": {
    "id": "7rt3oYceqDXd"
   },
   "outputs": [],
   "source": [
    "pytrend.build_payload(kw_list, timeframe='2021-09-20 2021-10-18', geo = 'US-TN')\n",
    "dataTN = pytrend.get_historical_interest(kw_list, year_start=2021, month_start=9, day_start=20, hour_start=0, year_end=2021, month_end=10, day_end= 18, hour_end=0, geo = 'US-TN')"
   ]
  },
  {
   "cell_type": "code",
   "execution_count": null,
   "metadata": {
    "id": "5aFng9d3qDfN"
   },
   "outputs": [],
   "source": [
    "dataTN['State']=\"TN\"\n",
    "dataTN['Timezone']=3"
   ]
  },
  {
   "cell_type": "markdown",
   "metadata": {
    "id": "M3YFSsXDqhf8"
   },
   "source": [
    "Misisipy"
   ]
  },
  {
   "cell_type": "code",
   "execution_count": null,
   "metadata": {
    "id": "uxsBztyzqho6"
   },
   "outputs": [],
   "source": [
    "pytrend.build_payload(kw_list, timeframe='2021-09-20 2021-10-18', geo = 'US-MS')\n",
    "dataMS = pytrend.get_historical_interest(kw_list, year_start=2021, month_start=9, day_start=20, hour_start=0, year_end=2021, month_end=10, day_end= 18, hour_end=0, geo = 'US-MS')"
   ]
  },
  {
   "cell_type": "code",
   "execution_count": null,
   "metadata": {
    "id": "UVmf5KR8qhsN"
   },
   "outputs": [],
   "source": [
    "dataMS['State']=\"MS\"\n",
    "dataMS['Timezone']=3"
   ]
  },
  {
   "cell_type": "markdown",
   "metadata": {
    "id": "3BAJ_9rNq1pA"
   },
   "source": [
    "Misouri"
   ]
  },
  {
   "cell_type": "code",
   "execution_count": null,
   "metadata": {
    "id": "mrZdFEKdq10u"
   },
   "outputs": [],
   "source": [
    "pytrend.build_payload(kw_list, timeframe='2021-09-20 2021-10-18', geo = 'US-MO')\n",
    "dataMO = pytrend.get_historical_interest(kw_list, year_start=2021, month_start=9, day_start=20, hour_start=0, year_end=2021, month_end=10, day_end= 18, hour_end=0, geo = 'US-MO')"
   ]
  },
  {
   "cell_type": "code",
   "execution_count": null,
   "metadata": {
    "id": "diUnOdszq166"
   },
   "outputs": [],
   "source": [
    "dataMO['State']=\"MO\"\n",
    "dataMO['Timezone']=3"
   ]
  },
  {
   "cell_type": "markdown",
   "metadata": {
    "id": "16IPbRkprRQu"
   },
   "source": [
    "Luisiana"
   ]
  },
  {
   "cell_type": "code",
   "execution_count": null,
   "metadata": {
    "id": "ybo1U3M0rRbo"
   },
   "outputs": [],
   "source": [
    "pytrend.build_payload(kw_list, timeframe='2021-09-20 2021-10-18', geo = 'US-LA')\n",
    "dataLA = pytrend.get_historical_interest(kw_list, year_start=2021, month_start=9, day_start=20, hour_start=0, year_end=2021, month_end=10, day_end= 18, hour_end=0, geo = 'US-LA')"
   ]
  },
  {
   "cell_type": "code",
   "execution_count": null,
   "metadata": {
    "id": "RcMxKRu9rRlc"
   },
   "outputs": [],
   "source": [
    "dataLA['State']=\"LA\"\n",
    "dataLA['Timezone']=3"
   ]
  },
  {
   "cell_type": "markdown",
   "metadata": {
    "id": "azDHIffvrjaZ"
   },
   "source": [
    "South Dakota"
   ]
  },
  {
   "cell_type": "code",
   "execution_count": null,
   "metadata": {
    "id": "KCY8mWlWrjjt"
   },
   "outputs": [],
   "source": [
    "pytrend.build_payload(kw_list, timeframe='2021-09-20 2021-10-18', geo = 'US-SD')\n",
    "dataSD = pytrend.get_historical_interest(kw_list, year_start=2021, month_start=9, day_start=20, hour_start=0, year_end=2021, month_end=10, day_end= 18, hour_end=0, geo = 'US-SD')"
   ]
  },
  {
   "cell_type": "code",
   "execution_count": null,
   "metadata": {
    "id": "TlwxX-xbrjmV"
   },
   "outputs": [],
   "source": [
    "dataSD['State']=\"SD\"\n",
    "dataSD['Timezone']=2.5"
   ]
  },
  {
   "cell_type": "markdown",
   "metadata": {
    "id": "_F2oDE3IsDjJ"
   },
   "source": [
    "Nebraska"
   ]
  },
  {
   "cell_type": "code",
   "execution_count": null,
   "metadata": {
    "id": "RIbfDUuUsDsw"
   },
   "outputs": [],
   "source": [
    "pytrend.build_payload(kw_list, timeframe='2021-09-20 2021-10-18', geo = 'US-NE')\n",
    "dataNE = pytrend.get_historical_interest(kw_list, year_start=2021, month_start=9, day_start=20, hour_start=0, year_end=2021, month_end=10, day_end= 18, hour_end=0, geo = 'US-NE')"
   ]
  },
  {
   "cell_type": "code",
   "execution_count": null,
   "metadata": {
    "id": "SOl624aqsDwP"
   },
   "outputs": [],
   "source": [
    "dataNE['State']=\"NE\"\n",
    "dataNE['Timezone']=2.5"
   ]
  },
  {
   "cell_type": "markdown",
   "metadata": {
    "id": "d_RbUTnnsRR3"
   },
   "source": [
    "Idaho"
   ]
  },
  {
   "cell_type": "code",
   "execution_count": null,
   "metadata": {
    "id": "DfYTZtMesRdo"
   },
   "outputs": [],
   "source": [
    "pytrend.build_payload(kw_list, timeframe='2021-09-20 2021-10-18', geo = 'US-ID')\n",
    "dataID = pytrend.get_historical_interest(kw_list, year_start=2021, month_start=9, day_start=20, hour_start=0, year_end=2021, month_end=10, day_end= 18, hour_end=0, geo = 'US-ID')"
   ]
  },
  {
   "cell_type": "code",
   "execution_count": null,
   "metadata": {
    "id": "eoo9FO7gsRim"
   },
   "outputs": [],
   "source": [
    "dataID['State']=\"ID\"\n",
    "dataID['Timezone']=1.5"
   ]
  },
  {
   "cell_type": "markdown",
   "metadata": {
    "id": "mkox2FCZs2E9"
   },
   "source": [
    "Arizona"
   ]
  },
  {
   "cell_type": "code",
   "execution_count": null,
   "metadata": {
    "id": "ZgagJPI4s2Qv"
   },
   "outputs": [],
   "source": [
    "pytrend.build_payload(kw_list, timeframe='2021-09-20 2021-10-18', geo = 'US-AZ')\n",
    "dataAZ = pytrend.get_historical_interest(kw_list, year_start=2021, month_start=9, day_start=20, hour_start=0, year_end=2021, month_end=10, day_end= 18, hour_end=0, geo = 'US-AZ')"
   ]
  },
  {
   "cell_type": "code",
   "execution_count": null,
   "metadata": {
    "id": "HKrTofD0s2Vy"
   },
   "outputs": [],
   "source": [
    "dataAZ['State']=\"AZ\"\n",
    "dataAZ['Timezone']=99"
   ]
  },
  {
   "cell_type": "markdown",
   "metadata": {
    "id": "mlkOhfNctUr5"
   },
   "source": [
    "Maryland"
   ]
  },
  {
   "cell_type": "code",
   "execution_count": null,
   "metadata": {
    "id": "N_8o1YNytU3n"
   },
   "outputs": [],
   "source": [
    "pytrend.build_payload(kw_list, timeframe='2021-09-20 2021-10-18', geo = 'US-MD')\n",
    "dataMD = pytrend.get_historical_interest(kw_list, year_start=2021, month_start=9, day_start=20, hour_start=0, year_end=2021, month_end=10, day_end= 18, hour_end=0, geo = 'US-MD')"
   ]
  },
  {
   "cell_type": "code",
   "execution_count": null,
   "metadata": {
    "id": "eeX0bU6ttU98"
   },
   "outputs": [],
   "source": [
    "dataMD['State']=\"MD\"\n",
    "dataMD['Timezone']=4"
   ]
  },
  {
   "cell_type": "markdown",
   "metadata": {
    "id": "S-MGGjU5thnJ"
   },
   "source": [
    "Washington DC"
   ]
  },
  {
   "cell_type": "code",
   "execution_count": null,
   "metadata": {
    "id": "JcRzyVUqthzN"
   },
   "outputs": [],
   "source": [
    "pytrend.build_payload(kw_list, timeframe='2021-09-20 2021-10-18', geo = 'US-DC')\n",
    "dataDC = pytrend.get_historical_interest(kw_list, year_start=2021, month_start=9, day_start=20, hour_start=0, year_end=2021, month_end=10, day_end= 18, hour_end=0, geo = 'US-DC')"
   ]
  },
  {
   "cell_type": "code",
   "execution_count": null,
   "metadata": {
    "id": "z2lqtezrth5G"
   },
   "outputs": [],
   "source": [
    "dataDC['State']=\"DC\"\n",
    "dataDC['Timezone']=4"
   ]
  },
  {
   "cell_type": "markdown",
   "metadata": {
    "id": "m-QUGW5QE0hD"
   },
   "source": [
    "Georgia"
   ]
  },
  {
   "cell_type": "code",
   "execution_count": null,
   "metadata": {
    "id": "50BZEfNuE4gj"
   },
   "outputs": [],
   "source": [
    "pytrend.build_payload(kw_list, timeframe='2021-09-20 2021-10-18', geo = 'US-GA')\n",
    "dataGA = pytrend.get_historical_interest(kw_list, year_start=2021, month_start=9, day_start=20, hour_start=0, year_end=2021, month_end=10, day_end= 18, hour_end=0, geo = 'US-GA')"
   ]
  },
  {
   "cell_type": "code",
   "execution_count": null,
   "metadata": {
    "id": "GHdmDoiJE4pS"
   },
   "outputs": [],
   "source": [
    "dataGA['State']=\"GA\"\n",
    "dataGA['Timezone']=4"
   ]
  },
  {
   "cell_type": "markdown",
   "metadata": {
    "id": "qHj7AMz1FQGq"
   },
   "source": [
    "California"
   ]
  },
  {
   "cell_type": "code",
   "execution_count": null,
   "metadata": {
    "id": "YRnexXXTFQac"
   },
   "outputs": [],
   "source": [
    "pytrend.build_payload(kw_list, timeframe='2021-09-20 2021-10-18', geo = 'US-CA')\n",
    "dataCA = pytrend.get_historical_interest(kw_list, year_start=2021, month_start=9, day_start=20, hour_start=0, year_end=2021, month_end=10, day_end= 18, hour_end=0, geo = 'US-CA')"
   ]
  },
  {
   "cell_type": "code",
   "execution_count": null,
   "metadata": {
    "id": "vv6hSC4NFQg8"
   },
   "outputs": [],
   "source": [
    "dataCA['State']=\"CA\"\n",
    "dataCA['Timezone']=1"
   ]
  },
  {
   "cell_type": "markdown",
   "metadata": {
    "id": "kDsYU1oLFcBz"
   },
   "source": [
    "Wyoming"
   ]
  },
  {
   "cell_type": "code",
   "execution_count": null,
   "metadata": {
    "id": "yyM-HI2bFcQ9"
   },
   "outputs": [],
   "source": [
    "pytrend.build_payload(kw_list, timeframe='2021-09-20 2021-10-18', geo = 'US-WY')\n",
    "dataWY = pytrend.get_historical_interest(kw_list, year_start=2021, month_start=9, day_start=20, hour_start=0, year_end=2021, month_end=10, day_end= 18, hour_end=0, geo = 'US-WY')"
   ]
  },
  {
   "cell_type": "code",
   "execution_count": null,
   "metadata": {
    "id": "RGKoknGKFcZw"
   },
   "outputs": [],
   "source": [
    "dataWY['State']=\"WY\"\n",
    "dataWY['Timezone']=2"
   ]
  },
  {
   "cell_type": "markdown",
   "metadata": {
    "id": "T2NNIj33Fqtp"
   },
   "source": [
    "Texas"
   ]
  },
  {
   "cell_type": "code",
   "execution_count": null,
   "metadata": {
    "id": "oOaqhcTlFq55"
   },
   "outputs": [],
   "source": [
    "pytrend.build_payload(kw_list, timeframe='2021-09-20 2021-10-18', geo = 'US-TX')\n",
    "dataTX = pytrend.get_historical_interest(kw_list, year_start=2021, month_start=9, day_start=20, hour_start=0, year_end=2021, month_end=10, day_end= 18, hour_end=0, geo = 'US-TX')"
   ]
  },
  {
   "cell_type": "code",
   "execution_count": null,
   "metadata": {
    "id": "xFxctvR2Fq8w"
   },
   "outputs": [],
   "source": [
    "dataTX['State']=\"TX\"\n",
    "dataTX['Timezone']=3"
   ]
  },
  {
   "cell_type": "markdown",
   "metadata": {
    "id": "8ITLlsNdIuQs"
   },
   "source": [
    "Washington"
   ]
  },
  {
   "cell_type": "code",
   "execution_count": null,
   "metadata": {
    "id": "-Qz8A3eMIubp"
   },
   "outputs": [],
   "source": [
    "pytrend.build_payload(kw_list, timeframe='2021-09-20 2021-10-18', geo = 'US-WA')\n",
    "dataWA = pytrend.get_historical_interest(kw_list, year_start=2021, month_start=9, day_start=20, hour_start=0, year_end=2021, month_end=10, day_end= 18, hour_end=0, geo = 'US-WA')"
   ]
  },
  {
   "cell_type": "code",
   "execution_count": null,
   "metadata": {
    "id": "lcT2iEWMIuh5"
   },
   "outputs": [],
   "source": [
    "dataWA['State']=\"WA\"\n",
    "dataWA['Timezone']=1"
   ]
  },
  {
   "cell_type": "markdown",
   "metadata": {
    "id": "FSmwTDw2F2Tz"
   },
   "source": [
    "Oregon"
   ]
  },
  {
   "cell_type": "code",
   "execution_count": null,
   "metadata": {
    "id": "by2QG-oBF2fI"
   },
   "outputs": [],
   "source": [
    "pytrend.build_payload(kw_list, timeframe='2021-09-20 2021-10-18', geo = 'US-OR')\n",
    "dataOR = pytrend.get_historical_interest(kw_list, year_start=2021, month_start=9, day_start=20, hour_start=0, year_end=2021, month_end=10, day_end= 18, hour_end=0, geo = 'US-OR')"
   ]
  },
  {
   "cell_type": "code",
   "execution_count": null,
   "metadata": {
    "id": "uLppAcQxF2ki"
   },
   "outputs": [],
   "source": [
    "dataOR['State']=\"OR\"\n",
    "dataOR['Timezone']=1"
   ]
  },
  {
   "cell_type": "markdown",
   "metadata": {
    "id": "7t1PCcMPF_Fo"
   },
   "source": [
    "Montana"
   ]
  },
  {
   "cell_type": "code",
   "execution_count": null,
   "metadata": {
    "id": "e0Vueh4AF_O_"
   },
   "outputs": [],
   "source": [
    "pytrend.build_payload(kw_list, timeframe='2021-09-20 2021-10-18', geo = 'US-MT')\n",
    "dataMT = pytrend.get_historical_interest(kw_list, year_start=2021, month_start=9, day_start=20, hour_start=0, year_end=2021, month_end=10, day_end= 18, hour_end=0, geo = 'US-MT')"
   ]
  },
  {
   "cell_type": "code",
   "execution_count": null,
   "metadata": {
    "id": "2jQlQeK0F_SZ"
   },
   "outputs": [],
   "source": [
    "dataMT['State']=\"MT\"\n",
    "dataMT['Timezone']=2"
   ]
  },
  {
   "cell_type": "markdown",
   "metadata": {
    "id": "zaybNsG0GJA1"
   },
   "source": [
    "Illinois"
   ]
  },
  {
   "cell_type": "code",
   "execution_count": null,
   "metadata": {
    "id": "W1m0Yrw7GJKq"
   },
   "outputs": [],
   "source": [
    "pytrend.build_payload(kw_list, timeframe='2021-09-20 2021-10-18', geo = 'US-IL')\n",
    "dataIL = pytrend.get_historical_interest(kw_list, year_start=2021, month_start=9, day_start=20, hour_start=0, year_end=2021, month_end=10, day_end= 18, hour_end=0, geo = 'US-IL')"
   ]
  },
  {
   "cell_type": "code",
   "execution_count": null,
   "metadata": {
    "id": "uLeNA_DVGJN6"
   },
   "outputs": [],
   "source": [
    "dataIL['State']=\"IL\"\n",
    "dataIL['Timezone']=3"
   ]
  },
  {
   "cell_type": "markdown",
   "metadata": {
    "id": "Kh1lnrX1E45v"
   },
   "source": [
    "New York"
   ]
  },
  {
   "cell_type": "code",
   "execution_count": null,
   "metadata": {
    "id": "3GR0w3TTGWYm"
   },
   "outputs": [],
   "source": [
    "pytrend.build_payload(kw_list, timeframe='2021-09-20 2021-10-18', geo = 'US-NY')\n",
    "dataNY = pytrend.get_historical_interest(kw_list, year_start=2021, month_start=9, day_start=20, hour_start=0, year_end=2021, month_end=10, day_end= 18, hour_end=0, geo = 'US-NY')"
   ]
  },
  {
   "cell_type": "code",
   "execution_count": null,
   "metadata": {
    "id": "6GubVA2KGWbH"
   },
   "outputs": [],
   "source": [
    "dataNY['State']=\"NY\"\n",
    "dataNY['Timezone']=4"
   ]
  },
  {
   "cell_type": "markdown",
   "metadata": {
    "id": "U29MUiKvGhjV"
   },
   "source": [
    "Florida"
   ]
  },
  {
   "cell_type": "code",
   "execution_count": null,
   "metadata": {
    "id": "zHi39sIxGhtC"
   },
   "outputs": [],
   "source": [
    "pytrend.build_payload(kw_list, timeframe='2021-09-20 2021-10-18', geo = 'US-FL')\n",
    "dataFL = pytrend.get_historical_interest(kw_list, year_start=2021, month_start=9, day_start=20, hour_start=0, year_end=2021, month_end=10, day_end= 18, hour_end=0, geo = 'US-FL')"
   ]
  },
  {
   "cell_type": "code",
   "execution_count": null,
   "metadata": {
    "id": "5WSekUd9Ghw1"
   },
   "outputs": [],
   "source": [
    "dataFL['State']=\"FL\"\n",
    "dataFL['Timezone']=4"
   ]
  },
  {
   "cell_type": "markdown",
   "metadata": {
    "id": "mkpuyG7-Gh-R"
   },
   "source": [
    "Kansas"
   ]
  },
  {
   "cell_type": "code",
   "execution_count": null,
   "metadata": {
    "id": "AKP3TnMnGiMo"
   },
   "outputs": [],
   "source": [
    "pytrend.build_payload(kw_list, timeframe='2021-09-20 2021-10-18', geo = 'US-KS')\n",
    "dataKS = pytrend.get_historical_interest(kw_list, year_start=2021, month_start=9, day_start=20, hour_start=0, year_end=2021, month_end=10, day_end= 18, hour_end=0, geo = 'US-KS')"
   ]
  },
  {
   "cell_type": "code",
   "execution_count": null,
   "metadata": {
    "id": "uA3NQs1mGiP_"
   },
   "outputs": [],
   "source": [
    "dataKS['State']=\"KS\"\n",
    "dataKS['Timezone']=3"
   ]
  },
  {
   "cell_type": "markdown",
   "metadata": {
    "id": "LVq5ny7AG2Gv"
   },
   "source": [
    "New Mexico"
   ]
  },
  {
   "cell_type": "code",
   "execution_count": null,
   "metadata": {
    "id": "zOthWNoAG2Po"
   },
   "outputs": [],
   "source": [
    "pytrend.build_payload(kw_list, timeframe='2021-09-20 2021-10-18', geo = 'US-NM')\n",
    "dataNM = pytrend.get_historical_interest(kw_list, year_start=2021, month_start=9, day_start=20, hour_start=0, year_end=2021, month_end=10, day_end= 18, hour_end=0, geo = 'US-NM')"
   ]
  },
  {
   "cell_type": "code",
   "execution_count": null,
   "metadata": {
    "id": "EmTWVAOtG2SQ"
   },
   "outputs": [],
   "source": [
    "dataNM['State']=\"NM\"\n",
    "dataNM['Timezone']=2"
   ]
  },
  {
   "cell_type": "markdown",
   "metadata": {
    "id": "bhqmDHi5eauA"
   },
   "source": [
    "Appendeamos"
   ]
  },
  {
   "cell_type": "code",
   "execution_count": null,
   "metadata": {
    "id": "Hv095mIRcuyz"
   },
   "outputs": [],
   "source": [
    "trends2 = dataMN.append([dataKY,dataAL,dataAR,dataIA,dataND,dataIN,dataSC,dataVA,dataMA,dataMI,dataCO,dataNV,dataOK,dataPA,dataOH,dataNJ,dataWV,dataVT,dataNH,dataME,dataRI,dataNC,dataUT,dataWI,dataDE,dataCT,dataTN,dataMS,dataMO,dataLA,dataSD,dataNE,dataID,dataAZ,dataMD,dataDC,dataGA,dataCA,dataTX,dataWY,dataWA,dataOR,dataMT,dataIL,dataNY,dataFL,dataKS,dataNM])"
   ]
  },
  {
   "cell_type": "code",
   "execution_count": null,
   "metadata": {
    "id": "1xniQTPIuolA"
   },
   "outputs": [],
   "source": [
    "trends2['date'] = trends2.index"
   ]
  },
  {
   "cell_type": "code",
   "execution_count": null,
   "metadata": {
    "id": "G7kjnEG_uotU"
   },
   "outputs": [],
   "source": [
    "def saca_dia(datetime):\n",
    "  '''Saca día de datetime'''\n",
    "  dia = datetime.day\n",
    "  return dia\n",
    "  \n",
    "def saca_mes(datetime):\n",
    "  '''Saca mes de datetime'''\n",
    "  mes = datetime.month\n",
    "  return mes\n",
    "\n",
    "def saca_hora(datetime):\n",
    "  '''Saca hora de datetime'''\n",
    "  hora = datetime.hour\n",
    "  return hora"
   ]
  },
  {
   "cell_type": "code",
   "execution_count": null,
   "metadata": {
    "id": "lUY3ZS34vFE9"
   },
   "outputs": [],
   "source": [
    "trends2['day'] = trends2['date'].apply(saca_dia)\n",
    "trends2['month'] = trends2['date'].apply(saca_mes)\n",
    "trends2['hour'] = trends2['date'].apply(saca_hora)"
   ]
  },
  {
   "cell_type": "code",
   "execution_count": null,
   "metadata": {
    "colab": {
     "base_uri": "https://localhost:8080/",
     "height": 455
    },
    "id": "Vu4k5vf2ehyr",
    "outputId": "37aefd32-d277-47ab-e886-df5d30051807"
   },
   "outputs": [],
   "source": [
    "trends2"
   ]
  },
  {
   "cell_type": "code",
   "execution_count": null,
   "metadata": {
    "id": "giATPxA3ehwB"
   },
   "outputs": [],
   "source": [
    "compression_opts = dict(method='zip', archive_name='suic.csv')\n",
    "trends2.to_csv('suic.zip', index=False, compression=compression_opts)"
   ]
  },
  {
   "cell_type": "code",
   "execution_count": null,
   "metadata": {
    "id": "r6r8ZhDDuWTF"
   },
   "outputs": [],
   "source": []
  }
 ],
 "metadata": {
  "colab": {
   "provenance": []
  },
  "kernelspec": {
   "display_name": "Python 3",
   "language": "python",
   "name": "python3"
  },
  "language_info": {
   "codemirror_mode": {
    "name": "ipython",
    "version": 3
   },
   "file_extension": ".py",
   "mimetype": "text/x-python",
   "name": "python",
   "nbconvert_exporter": "python",
   "pygments_lexer": "ipython3",
   "version": "3.9.0"
  }
 },
 "nbformat": 4,
 "nbformat_minor": 1
}
