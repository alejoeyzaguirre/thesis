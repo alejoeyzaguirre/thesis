{
 "cells": [
  {
   "cell_type": "markdown",
   "metadata": {},
   "source": [
    "# Extracción Datos de Google (Mental Health Searches per State)\n",
    "## Alejo Eyzaguirre\n",
    "### Tesis Magíster en Economía"
   ]
  },
  {
   "cell_type": "code",
   "execution_count": 1,
   "metadata": {
    "id": "hQAn-it1cbx_"
   },
   "outputs": [],
   "source": [
    "import numpy as np\n",
    "import pandas as pd\n",
    "from IPython.display import display "
   ]
  },
  {
   "cell_type": "code",
   "execution_count": 2,
   "metadata": {
    "colab": {
     "base_uri": "https://localhost:8080/"
    },
    "id": "1tWPGEEdcoFe",
    "outputId": "26511c07-a3bf-4500-f315-9f5de01d1b87"
   },
   "outputs": [
    {
     "name": "stdout",
     "output_type": "stream",
     "text": [
      "Requirement already satisfied: pytrends in /Users/alejoeyzaguirre/Library/Python/3.9/lib/python/site-packages (4.7.4)\n",
      "Requirement already satisfied: lxml in /Library/Frameworks/Python.framework/Versions/3.9/lib/python3.9/site-packages (from pytrends) (4.6.1)\n",
      "Requirement already satisfied: requests>=2.0 in /Library/Frameworks/Python.framework/Versions/3.9/lib/python3.9/site-packages (from pytrends) (2.25.0)\n",
      "Requirement already satisfied: pandas>=0.25 in /Library/Frameworks/Python.framework/Versions/3.9/lib/python3.9/site-packages (from pytrends) (1.1.4)\n",
      "Requirement already satisfied: pytz>=2017.2 in /Library/Frameworks/Python.framework/Versions/3.9/lib/python3.9/site-packages (from pandas>=0.25->pytrends) (2020.4)\n",
      "Requirement already satisfied: numpy>=1.15.4 in /Library/Frameworks/Python.framework/Versions/3.9/lib/python3.9/site-packages (from pandas>=0.25->pytrends) (1.19.4)\n",
      "Requirement already satisfied: python-dateutil>=2.7.3 in /Library/Frameworks/Python.framework/Versions/3.9/lib/python3.9/site-packages (from pandas>=0.25->pytrends) (2.8.1)\n",
      "Requirement already satisfied: urllib3<1.27,>=1.21.1 in /Library/Frameworks/Python.framework/Versions/3.9/lib/python3.9/site-packages (from requests>=2.0->pytrends) (1.26.2)\n",
      "Requirement already satisfied: chardet<4,>=3.0.2 in /Library/Frameworks/Python.framework/Versions/3.9/lib/python3.9/site-packages (from requests>=2.0->pytrends) (3.0.4)\n",
      "Requirement already satisfied: idna<3,>=2.5 in /Library/Frameworks/Python.framework/Versions/3.9/lib/python3.9/site-packages (from requests>=2.0->pytrends) (2.10)\n",
      "Requirement already satisfied: certifi>=2017.4.17 in /Library/Frameworks/Python.framework/Versions/3.9/lib/python3.9/site-packages (from requests>=2.0->pytrends) (2020.11.8)\n",
      "Requirement already satisfied: six>=1.5 in /Library/Frameworks/Python.framework/Versions/3.9/lib/python3.9/site-packages (from python-dateutil>=2.7.3->pandas>=0.25->pytrends) (1.15.0)\n"
     ]
    }
   ],
   "source": [
    "!pip install pytrends"
   ]
  },
  {
   "cell_type": "code",
   "execution_count": 3,
   "metadata": {
    "colab": {
     "base_uri": "https://localhost:8080/"
    },
    "id": "wfYkGRehdRHl",
    "outputId": "38f84e15-7548-42fa-e990-fe750888c38d"
   },
   "outputs": [
    {
     "name": "stdout",
     "output_type": "stream",
     "text": [
      "Collecting git+https://github.com/GeneralMills/pytrends\n",
      "  Cloning https://github.com/GeneralMills/pytrends to /private/var/folders/t6/bjbwm04j519_w5pn65l3sw_40000gn/T/pip-req-build-vvuc9lo1\n",
      "  Running command git clone --filter=blob:none --quiet https://github.com/GeneralMills/pytrends /private/var/folders/t6/bjbwm04j519_w5pn65l3sw_40000gn/T/pip-req-build-vvuc9lo1\n",
      "  Resolved https://github.com/GeneralMills/pytrends to commit 706975cad7f626e8e4a9620f210d5cc3e27666cf\n",
      "  Preparing metadata (setup.py) ... \u001b[?25ldone\n",
      "\u001b[?25hRequirement already satisfied: requests>=2.0 in /Library/Frameworks/Python.framework/Versions/3.9/lib/python3.9/site-packages (from pytrends==4.7.4) (2.25.0)\n",
      "Requirement already satisfied: pandas>=0.25 in /Library/Frameworks/Python.framework/Versions/3.9/lib/python3.9/site-packages (from pytrends==4.7.4) (1.1.4)\n",
      "Requirement already satisfied: lxml in /Library/Frameworks/Python.framework/Versions/3.9/lib/python3.9/site-packages (from pytrends==4.7.4) (4.6.1)\n",
      "Requirement already satisfied: python-dateutil>=2.7.3 in /Library/Frameworks/Python.framework/Versions/3.9/lib/python3.9/site-packages (from pandas>=0.25->pytrends==4.7.4) (2.8.1)\n",
      "Requirement already satisfied: pytz>=2017.2 in /Library/Frameworks/Python.framework/Versions/3.9/lib/python3.9/site-packages (from pandas>=0.25->pytrends==4.7.4) (2020.4)\n",
      "Requirement already satisfied: numpy>=1.15.4 in /Library/Frameworks/Python.framework/Versions/3.9/lib/python3.9/site-packages (from pandas>=0.25->pytrends==4.7.4) (1.19.4)\n",
      "Requirement already satisfied: certifi>=2017.4.17 in /Library/Frameworks/Python.framework/Versions/3.9/lib/python3.9/site-packages (from requests>=2.0->pytrends==4.7.4) (2020.11.8)\n",
      "Requirement already satisfied: chardet<4,>=3.0.2 in /Library/Frameworks/Python.framework/Versions/3.9/lib/python3.9/site-packages (from requests>=2.0->pytrends==4.7.4) (3.0.4)\n",
      "Requirement already satisfied: idna<3,>=2.5 in /Library/Frameworks/Python.framework/Versions/3.9/lib/python3.9/site-packages (from requests>=2.0->pytrends==4.7.4) (2.10)\n",
      "Requirement already satisfied: urllib3<1.27,>=1.21.1 in /Library/Frameworks/Python.framework/Versions/3.9/lib/python3.9/site-packages (from requests>=2.0->pytrends==4.7.4) (1.26.2)\n",
      "Requirement already satisfied: six>=1.5 in /Library/Frameworks/Python.framework/Versions/3.9/lib/python3.9/site-packages (from python-dateutil>=2.7.3->pandas>=0.25->pytrends==4.7.4) (1.15.0)\n",
      "Note: you may need to restart the kernel to use updated packages.\n"
     ]
    }
   ],
   "source": [
    "pip install --upgrade --user git+https://github.com/GeneralMills/pytrends"
   ]
  },
  {
   "cell_type": "code",
   "execution_count": 4,
   "metadata": {
    "id": "tfAhDxpsdQZ4"
   },
   "outputs": [],
   "source": [
    "import pytrends\n",
    "from pytrends.request import TrendReq"
   ]
  },
  {
   "cell_type": "code",
   "execution_count": 5,
   "metadata": {
    "id": "HU4VtIKsdNas"
   },
   "outputs": [],
   "source": [
    "pytrend = TrendReq(hl='en-US', tz=360)"
   ]
  },
  {
   "cell_type": "code",
   "execution_count": 6,
   "metadata": {
    "id": "3JaSiGWyeBM0"
   },
   "outputs": [],
   "source": [
    "kw_list = ['weather']"
   ]
  },
  {
   "cell_type": "markdown",
   "metadata": {
    "id": "h4MQrVRneRQX"
   },
   "source": [
    "1. Minnesota"
   ]
  },
  {
   "cell_type": "code",
   "execution_count": 7,
   "metadata": {
    "id": "y4vFNdL5cqsD"
   },
   "outputs": [
    {
     "name": "stdout",
     "output_type": "stream",
     "text": [
      "The request failed: Google returned a response with code 500.\n",
      "The request failed: Google returned a response with code 500.\n",
      "The request failed: Google returned a response with code 500.\n",
      "The request failed: Google returned a response with code 500.\n",
      "The request failed: Google returned a response with code 500.\n"
     ]
    }
   ],
   "source": [
    "pytrend.build_payload(kw_list, timeframe='2019-02-27 2019-03-27', geo = 'US-MN')\n",
    "dataMN = pytrend.get_historical_interest(kw_list, year_start=2019, month_start=2, day_start=27, hour_start=0, year_end=2019, month_end=3, day_end= 27, hour_end=0, geo = 'US-MN')"
   ]
  },
  {
   "cell_type": "code",
   "execution_count": 8,
   "metadata": {
    "id": "Zd2wCYuvcs5s"
   },
   "outputs": [],
   "source": [
    "dataMN['State']=\"MN\"\n",
    "dataMN['Timezone']=3"
   ]
  },
  {
   "cell_type": "code",
   "execution_count": 9,
   "metadata": {},
   "outputs": [
    {
     "data": {
      "text/html": [
       "<div>\n",
       "<style scoped>\n",
       "    .dataframe tbody tr th:only-of-type {\n",
       "        vertical-align: middle;\n",
       "    }\n",
       "\n",
       "    .dataframe tbody tr th {\n",
       "        vertical-align: top;\n",
       "    }\n",
       "\n",
       "    .dataframe thead th {\n",
       "        text-align: right;\n",
       "    }\n",
       "</style>\n",
       "<table border=\"1\" class=\"dataframe\">\n",
       "  <thead>\n",
       "    <tr style=\"text-align: right;\">\n",
       "      <th></th>\n",
       "      <th>State</th>\n",
       "      <th>Timezone</th>\n",
       "    </tr>\n",
       "  </thead>\n",
       "  <tbody>\n",
       "  </tbody>\n",
       "</table>\n",
       "</div>"
      ],
      "text/plain": [
       "Empty DataFrame\n",
       "Columns: [State, Timezone]\n",
       "Index: []"
      ]
     },
     "execution_count": 9,
     "metadata": {},
     "output_type": "execute_result"
    }
   ],
   "source": [
    "dataMN"
   ]
  },
  {
   "cell_type": "markdown",
   "metadata": {
    "id": "mKjBX3uHeSrV"
   },
   "source": [
    "2. Kentucky"
   ]
  },
  {
   "cell_type": "code",
   "execution_count": 10,
   "metadata": {
    "id": "ROTK4u5YeaWp"
   },
   "outputs": [],
   "source": [
    "pytrend.build_payload(kw_list, timeframe='2019-02-27 2019-03-27', geo = 'US-KY')\n",
    "dataKY = pytrend.get_historical_interest(kw_list, year_start=2019, month_start=2, day_start=27, hour_start=0, year_end=2019, month_end=3, day_end= 27, hour_end=0, geo = 'US-KY')"
   ]
  },
  {
   "cell_type": "code",
   "execution_count": 11,
   "metadata": {
    "id": "8KVuwbZBeaaj"
   },
   "outputs": [],
   "source": [
    "dataKY['State']=\"KY\"\n",
    "dataKY['Timezone']=4"
   ]
  },
  {
   "cell_type": "markdown",
   "metadata": {
    "id": "3Qn55i9ie0rn"
   },
   "source": [
    "3. Alabama"
   ]
  },
  {
   "cell_type": "code",
   "execution_count": 12,
   "metadata": {
    "id": "a6Nk-4hye03r"
   },
   "outputs": [],
   "source": [
    "pytrend.build_payload(kw_list, timeframe='2019-02-27 2019-03-27', geo = 'US-AL')\n",
    "dataAL = pytrend.get_historical_interest(kw_list, year_start=2019, month_start=2, day_start=27, hour_start=0, year_end=2019, month_end=3, day_end= 27, hour_end=0, geo = 'US-AL')"
   ]
  },
  {
   "cell_type": "code",
   "execution_count": 13,
   "metadata": {
    "id": "luFNaIO8e06X"
   },
   "outputs": [],
   "source": [
    "dataAL['State']=\"AL\"\n",
    "dataAL['Timezone']=3"
   ]
  },
  {
   "cell_type": "markdown",
   "metadata": {
    "id": "InKNkbwufMIi"
   },
   "source": [
    "4. Arkansas"
   ]
  },
  {
   "cell_type": "code",
   "execution_count": 14,
   "metadata": {
    "id": "ly6ux3gKfMVK"
   },
   "outputs": [],
   "source": [
    "pytrend.build_payload(kw_list, timeframe='2019-02-27 2019-03-27', geo = 'US-AR')\n",
    "dataAR = pytrend.get_historical_interest(kw_list, year_start=2019, month_start=2, day_start=27, hour_start=0, year_end=2019, month_end=3, day_end= 27, hour_end=0, geo = 'US-AR')"
   ]
  },
  {
   "cell_type": "code",
   "execution_count": 15,
   "metadata": {
    "id": "Dz35HM8PfMa6"
   },
   "outputs": [],
   "source": [
    "dataAR['State']=\"AR\"\n",
    "dataAR['Timezone']=3"
   ]
  },
  {
   "cell_type": "markdown",
   "metadata": {
    "id": "9oiCT4uFffAF"
   },
   "source": [
    "5. Iowa"
   ]
  },
  {
   "cell_type": "code",
   "execution_count": 16,
   "metadata": {
    "id": "dg3olCkUffLR"
   },
   "outputs": [],
   "source": [
    "pytrend.build_payload(kw_list, timeframe='2019-02-27 2019-03-27', geo = 'US-IA')\n",
    "dataIA = pytrend.get_historical_interest(kw_list, year_start=2019, month_start=2, day_start=27, hour_start=0, year_end=2019, month_end=3, day_end= 27, hour_end=0, geo = 'US-IA')"
   ]
  },
  {
   "cell_type": "code",
   "execution_count": 17,
   "metadata": {
    "id": "oMpSFOjOffRQ"
   },
   "outputs": [],
   "source": [
    "dataIA['State']=\"IA\"\n",
    "dataIA['Timezone']=3"
   ]
  },
  {
   "cell_type": "markdown",
   "metadata": {
    "id": "W0e2ktx8gTbI"
   },
   "source": [
    "6. North Dakota"
   ]
  },
  {
   "cell_type": "code",
   "execution_count": 18,
   "metadata": {
    "id": "cWQe4p0YgTlT"
   },
   "outputs": [],
   "source": [
    "pytrend.build_payload(kw_list, timeframe='2019-02-27 2019-03-27', geo = 'US-ND')\n",
    "dataND = pytrend.get_historical_interest(kw_list, year_start=2019, month_start=2, day_start=27, hour_start=0, year_end=2019, month_end=3, day_end= 27, hour_end=0, geo = 'US-ND')"
   ]
  },
  {
   "cell_type": "code",
   "execution_count": 19,
   "metadata": {
    "id": "j5iCHyVegSwD"
   },
   "outputs": [],
   "source": [
    "dataND['State']=\"ND\"\n",
    "dataND['Timezone']=3"
   ]
  },
  {
   "cell_type": "markdown",
   "metadata": {
    "id": "5K5B7w-Ugq3e"
   },
   "source": [
    "7. Indiana"
   ]
  },
  {
   "cell_type": "code",
   "execution_count": 20,
   "metadata": {
    "id": "Z_er7xcsgrA7"
   },
   "outputs": [],
   "source": [
    "pytrend.build_payload(kw_list, timeframe='2019-02-27 2019-03-27', geo = 'US-IN')\n",
    "dataIN = pytrend.get_historical_interest(kw_list, year_start=2019, month_start=2, day_start=27, hour_start=0, year_end=2019, month_end=3, day_end= 27, hour_end=0, geo = 'US-IN')"
   ]
  },
  {
   "cell_type": "code",
   "execution_count": 21,
   "metadata": {
    "id": "jf6EOdJHgrHM"
   },
   "outputs": [],
   "source": [
    "dataIN['State']=\"IN\"\n",
    "dataIN['Timezone']=4"
   ]
  },
  {
   "cell_type": "markdown",
   "metadata": {
    "id": "c_V8TeXBg6cg"
   },
   "source": [
    "8. South Carolina"
   ]
  },
  {
   "cell_type": "code",
   "execution_count": 22,
   "metadata": {
    "id": "GZzGll5yg6k3"
   },
   "outputs": [],
   "source": [
    "pytrend.build_payload(kw_list, timeframe='2019-02-27 2019-03-27', geo = 'US-SC')\n",
    "dataSC = pytrend.get_historical_interest(kw_list, year_start=2019, month_start=2, day_start=27, hour_start=0, year_end=2019, month_end=3, day_end= 27, hour_end=0, geo = 'US-SC')"
   ]
  },
  {
   "cell_type": "code",
   "execution_count": 23,
   "metadata": {
    "id": "VgmBVgeMg6r0"
   },
   "outputs": [],
   "source": [
    "dataSC['State']=\"SC\"\n",
    "dataSC['Timezone']=4"
   ]
  },
  {
   "cell_type": "markdown",
   "metadata": {
    "id": "CaIC4yTrhFmO"
   },
   "source": [
    "9. Virginia"
   ]
  },
  {
   "cell_type": "code",
   "execution_count": 24,
   "metadata": {
    "id": "bFXqpu41hFut"
   },
   "outputs": [],
   "source": [
    "pytrend.build_payload(kw_list, timeframe='2019-02-27 2019-03-27', geo = 'US-VA')\n",
    "dataVA = pytrend.get_historical_interest(kw_list, year_start=2019, month_start=2, day_start=27, hour_start=0, year_end=2019, month_end=3, day_end= 27, hour_end=0, geo = 'US-VA')"
   ]
  },
  {
   "cell_type": "code",
   "execution_count": 25,
   "metadata": {
    "id": "eO5FGsBfhFzL"
   },
   "outputs": [],
   "source": [
    "dataVA['State']=\"VA\"\n",
    "dataVA['Timezone']=4"
   ]
  },
  {
   "cell_type": "markdown",
   "metadata": {
    "id": "Gbd3D3FFhZp2"
   },
   "source": [
    "10. Massachussets"
   ]
  },
  {
   "cell_type": "code",
   "execution_count": 26,
   "metadata": {
    "id": "ZWZVLaxIhZ0t"
   },
   "outputs": [],
   "source": [
    "pytrend.build_payload(kw_list, timeframe='2019-02-27 2019-03-27', geo = 'US-MA')\n",
    "dataMA = pytrend.get_historical_interest(kw_list, year_start=2019, month_start=2, day_start=27, hour_start=0, year_end=2019, month_end=3, day_end= 27, hour_end=0, geo = 'US-MA')"
   ]
  },
  {
   "cell_type": "code",
   "execution_count": 27,
   "metadata": {
    "id": "9y1sNNQ5hZ8w"
   },
   "outputs": [],
   "source": [
    "dataMA['State']=\"MA\"\n",
    "dataMA['Timezone']=4"
   ]
  },
  {
   "cell_type": "markdown",
   "metadata": {
    "id": "_2ZbwI6rh7tF"
   },
   "source": [
    "11. Michigan"
   ]
  },
  {
   "cell_type": "code",
   "execution_count": 28,
   "metadata": {
    "id": "e8LOtdCrh73F"
   },
   "outputs": [],
   "source": [
    "pytrend.build_payload(kw_list, timeframe='2019-02-27 2019-03-27', geo = 'US-MI')\n",
    "dataMI = pytrend.get_historical_interest(kw_list, year_start=2019, month_start=2, day_start=27, hour_start=0, year_end=2019, month_end=3, day_end= 27, hour_end=0, geo = 'US-MI')"
   ]
  },
  {
   "cell_type": "code",
   "execution_count": 29,
   "metadata": {
    "id": "fkTKCns_h76b"
   },
   "outputs": [],
   "source": [
    "dataMI['State']=\"MI\"\n",
    "dataMI['Timezone']=4"
   ]
  },
  {
   "cell_type": "markdown",
   "metadata": {
    "id": "MeZT2DQMiQl9"
   },
   "source": [
    "12. Colorado"
   ]
  },
  {
   "cell_type": "code",
   "execution_count": 30,
   "metadata": {
    "id": "ZDgIW3lAiQwt"
   },
   "outputs": [],
   "source": [
    "pytrend.build_payload(kw_list, timeframe='2019-02-27 2019-03-27', geo = 'US-CO')\n",
    "dataCO = pytrend.get_historical_interest(kw_list, year_start=2019, month_start=2, day_start=27, hour_start=0, year_end=2019, month_end=3, day_end= 27, hour_end=0, geo = 'US-CO')"
   ]
  },
  {
   "cell_type": "code",
   "execution_count": 31,
   "metadata": {
    "id": "3Tk4MdM-iQzZ"
   },
   "outputs": [],
   "source": [
    "dataCO['State']=\"CO\"\n",
    "dataCO['Timezone']=2"
   ]
  },
  {
   "cell_type": "markdown",
   "metadata": {
    "id": "In7vO50oir82"
   },
   "source": [
    "13. Nevada"
   ]
  },
  {
   "cell_type": "code",
   "execution_count": 32,
   "metadata": {
    "id": "yZkKYIsbiwu7"
   },
   "outputs": [],
   "source": [
    "pytrend.build_payload(kw_list, timeframe='2019-02-27 2019-03-27', geo = 'US-NV')\n",
    "dataNV = pytrend.get_historical_interest(kw_list, year_start=2019, month_start=2, day_start=27, hour_start=0, year_end=2019, month_end=3, day_end= 27, hour_end=0, geo = 'US-NV')"
   ]
  },
  {
   "cell_type": "code",
   "execution_count": 33,
   "metadata": {
    "id": "qhITIwSaiw4E"
   },
   "outputs": [],
   "source": [
    "dataNV['State']=\"NV\"\n",
    "dataNV['Timezone']=1"
   ]
  },
  {
   "cell_type": "markdown",
   "metadata": {
    "id": "CImObXEdjE_O"
   },
   "source": [
    "14. Oklahoma"
   ]
  },
  {
   "cell_type": "code",
   "execution_count": 34,
   "metadata": {
    "id": "NqjFgf0TjFHu"
   },
   "outputs": [],
   "source": [
    "pytrend.build_payload(kw_list, timeframe='2019-02-27 2019-03-27', geo = 'US-OK')\n",
    "dataOK = pytrend.get_historical_interest(kw_list, year_start=2019, month_start=2, day_start=27, hour_start=0, year_end=2019, month_end=3, day_end= 27, hour_end=0, geo = 'US-OK')"
   ]
  },
  {
   "cell_type": "code",
   "execution_count": 35,
   "metadata": {
    "id": "yb5j9JJQjFKm"
   },
   "outputs": [],
   "source": [
    "dataOK['State']=\"OK\"\n",
    "dataOK['Timezone']=3"
   ]
  },
  {
   "cell_type": "markdown",
   "metadata": {
    "id": "GeOD8hS9kcSg"
   },
   "source": [
    "15. Pennsylvania"
   ]
  },
  {
   "cell_type": "code",
   "execution_count": 36,
   "metadata": {
    "id": "VLEOzMUhkcb_"
   },
   "outputs": [],
   "source": [
    "pytrend.build_payload(kw_list, timeframe='2019-02-27 2019-03-27', geo = 'US-PA')\n",
    "dataPA = pytrend.get_historical_interest(kw_list, year_start=2019, month_start=2, day_start=27, hour_start=0, year_end=2019, month_end=3, day_end= 27, hour_end=0, geo = 'US-PA')"
   ]
  },
  {
   "cell_type": "code",
   "execution_count": 37,
   "metadata": {
    "id": "46rqhRCUkce2"
   },
   "outputs": [],
   "source": [
    "dataPA['State']=\"PA\"\n",
    "dataPA['Timezone']=4"
   ]
  },
  {
   "cell_type": "markdown",
   "metadata": {
    "id": "cQmxdQ87kyqE"
   },
   "source": [
    "16. Ohio"
   ]
  },
  {
   "cell_type": "code",
   "execution_count": 38,
   "metadata": {
    "id": "xeBaye9zkyyq"
   },
   "outputs": [],
   "source": [
    "pytrend.build_payload(kw_list, timeframe='2019-02-27 2019-03-27', geo = 'US-OH')\n",
    "dataOH = pytrend.get_historical_interest(kw_list, year_start=2019, month_start=2, day_start=27, hour_start=0, year_end=2019, month_end=3, day_end= 27, hour_end=0, geo = 'US-OH')"
   ]
  },
  {
   "cell_type": "code",
   "execution_count": 39,
   "metadata": {
    "id": "tu3oqWiCky2L"
   },
   "outputs": [],
   "source": [
    "dataOH['State']=\"OH\"\n",
    "dataOH['Timezone']=4"
   ]
  },
  {
   "cell_type": "markdown",
   "metadata": {
    "id": "moN2rBN2lSqD"
   },
   "source": [
    "17. New Jersey"
   ]
  },
  {
   "cell_type": "code",
   "execution_count": 40,
   "metadata": {
    "id": "Hz3ayJeqlSy7"
   },
   "outputs": [],
   "source": [
    "pytrend.build_payload(kw_list, timeframe='2019-02-27 2019-03-27', geo = 'US-NJ')\n",
    "dataNJ = pytrend.get_historical_interest(kw_list, year_start=2019, month_start=2, day_start=27, hour_start=0, year_end=2019, month_end=3, day_end= 27, hour_end=0, geo = 'US-NJ')"
   ]
  },
  {
   "cell_type": "code",
   "execution_count": 41,
   "metadata": {
    "id": "NakjE0VilS2J"
   },
   "outputs": [],
   "source": [
    "dataNJ['State']=\"NJ\"\n",
    "dataNJ['Timezone']=4"
   ]
  },
  {
   "cell_type": "markdown",
   "metadata": {
    "id": "utmJHtosmBlg"
   },
   "source": [
    "18. West Virginia"
   ]
  },
  {
   "cell_type": "code",
   "execution_count": 42,
   "metadata": {
    "id": "yhMst8qGmBvN"
   },
   "outputs": [],
   "source": [
    "pytrend.build_payload(kw_list, timeframe='2019-02-27 2019-03-27', geo = 'US-WV')\n",
    "dataWV = pytrend.get_historical_interest(kw_list, year_start=2019, month_start=2, day_start=27, hour_start=0, year_end=2019, month_end=3, day_end= 27, hour_end=0, geo = 'US-WV')"
   ]
  },
  {
   "cell_type": "code",
   "execution_count": 43,
   "metadata": {
    "id": "Pd4iHqxjmByO"
   },
   "outputs": [],
   "source": [
    "dataWV['State']=\"WV\"\n",
    "dataWV['Timezone']=4"
   ]
  },
  {
   "cell_type": "markdown",
   "metadata": {
    "id": "8bOFIEqknHCi"
   },
   "source": [
    "19. Vermont"
   ]
  },
  {
   "cell_type": "code",
   "execution_count": 44,
   "metadata": {
    "id": "0LjtkOahnHL2"
   },
   "outputs": [],
   "source": [
    "pytrend.build_payload(kw_list, timeframe='2021-09-20 2021-10-18', geo = 'US-VT')\n",
    "dataVT = pytrend.get_historical_interest(kw_list, year_start=2019, month_start=2, day_start=27, hour_start=0, year_end=2019, month_end=3, day_end= 27, hour_end=0, geo = 'US-VT')"
   ]
  },
  {
   "cell_type": "code",
   "execution_count": 45,
   "metadata": {
    "id": "i2v_nMAgnHPA"
   },
   "outputs": [],
   "source": [
    "dataVT['State']=\"VT\"\n",
    "dataVT['Timezone']=4"
   ]
  },
  {
   "cell_type": "markdown",
   "metadata": {
    "id": "j2UJKjvknYXU"
   },
   "source": [
    "20. New Hampshire"
   ]
  },
  {
   "cell_type": "code",
   "execution_count": 46,
   "metadata": {
    "id": "y6MRTxdHnYhq"
   },
   "outputs": [],
   "source": [
    "pytrend.build_payload(kw_list, timeframe='2019-02-27 2019-03-27', geo = 'US-NH')\n",
    "dataNH = pytrend.get_historical_interest(kw_list, year_start=2019, month_start=2, day_start=27, hour_start=0, year_end=2019, month_end=3, day_end= 27, hour_end=0, geo = 'US-NH')"
   ]
  },
  {
   "cell_type": "code",
   "execution_count": 47,
   "metadata": {
    "id": "xtv7G0S2nYkg"
   },
   "outputs": [],
   "source": [
    "dataNH['State']=\"NH\"\n",
    "dataNH['Timezone']=4"
   ]
  },
  {
   "cell_type": "markdown",
   "metadata": {
    "id": "kr0kuJaTnmFN"
   },
   "source": [
    "21. Maine"
   ]
  },
  {
   "cell_type": "code",
   "execution_count": 48,
   "metadata": {
    "id": "FDFX_anmnmO-"
   },
   "outputs": [],
   "source": [
    "pytrend.build_payload(kw_list, timeframe='2019-02-27 2019-03-27', geo = 'US-ME')\n",
    "dataME = pytrend.get_historical_interest(kw_list, year_start=2019, month_start=2, day_start=27, hour_start=0, year_end=2019, month_end=3, day_end= 27, hour_end=0, geo = 'US-ME')"
   ]
  },
  {
   "cell_type": "code",
   "execution_count": 49,
   "metadata": {
    "id": "ZW66D_rbnmVw"
   },
   "outputs": [],
   "source": [
    "dataME['State']=\"ME\"\n",
    "dataME['Timezone']=4"
   ]
  },
  {
   "cell_type": "markdown",
   "metadata": {
    "id": "P1SKkuLDn_u1"
   },
   "source": [
    "22. Rhode Island"
   ]
  },
  {
   "cell_type": "code",
   "execution_count": 50,
   "metadata": {
    "id": "Dl_AI87cn_5f"
   },
   "outputs": [],
   "source": [
    "pytrend.build_payload(kw_list, timeframe='2019-02-27 2019-03-27', geo = 'US-RI')\n",
    "dataRI = pytrend.get_historical_interest(kw_list, year_start=2019, month_start=2, day_start=27, hour_start=0, year_end=2019, month_end=3, day_end= 27, hour_end=0, geo = 'US-RI')"
   ]
  },
  {
   "cell_type": "code",
   "execution_count": 51,
   "metadata": {
    "id": "rKZzJlqHn_8p"
   },
   "outputs": [],
   "source": [
    "dataRI['State']=\"RI\"\n",
    "dataRI['Timezone']=4"
   ]
  },
  {
   "cell_type": "markdown",
   "metadata": {
    "id": "MZX5B3NHoa3O"
   },
   "source": [
    "23. North Carolina"
   ]
  },
  {
   "cell_type": "code",
   "execution_count": 52,
   "metadata": {
    "id": "TN9o2it_obBK"
   },
   "outputs": [],
   "source": [
    "pytrend.build_payload(kw_list, timeframe='2019-02-27 2019-03-27', geo = 'US-NC')\n",
    "dataNC = pytrend.get_historical_interest(kw_list, year_start=2019, month_start=2, day_start=27, hour_start=0, year_end=2019, month_end=3, day_end= 27, hour_end=0, geo = 'US-NC')"
   ]
  },
  {
   "cell_type": "code",
   "execution_count": 53,
   "metadata": {
    "id": "mPupUKfrobEN"
   },
   "outputs": [],
   "source": [
    "dataNC['State']=\"NC\"\n",
    "dataNC['Timezone']=4"
   ]
  },
  {
   "cell_type": "markdown",
   "metadata": {
    "id": "mPdPZMcXotpf"
   },
   "source": [
    "24. Utah"
   ]
  },
  {
   "cell_type": "code",
   "execution_count": 54,
   "metadata": {
    "id": "tJ9PUIkMotze"
   },
   "outputs": [],
   "source": [
    "pytrend.build_payload(kw_list, timeframe='2019-02-27 2019-03-27', geo = 'US-UT')\n",
    "dataUT = pytrend.get_historical_interest(kw_list, year_start=2019, month_start=2, day_start=27, hour_start=0, year_end=2019, month_end=3, day_end= 27, hour_end=0, geo = 'US-UT')"
   ]
  },
  {
   "cell_type": "code",
   "execution_count": 55,
   "metadata": {
    "id": "w1QuPYDXot3K"
   },
   "outputs": [],
   "source": [
    "dataUT['State']=\"UT\"\n",
    "dataUT['Timezone']=2"
   ]
  },
  {
   "cell_type": "markdown",
   "metadata": {
    "id": "rqWhA31_pCmv"
   },
   "source": [
    "25. Wisconsin"
   ]
  },
  {
   "cell_type": "code",
   "execution_count": 56,
   "metadata": {
    "id": "dyZcpk8spC2Y"
   },
   "outputs": [],
   "source": [
    "pytrend.build_payload(kw_list, timeframe='2019-02-27 2019-03-27', geo = 'US-WI')\n",
    "dataWI = pytrend.get_historical_interest(kw_list, year_start=2019, month_start=2, day_start=27, hour_start=0, year_end=2019, month_end=3, day_end= 27, hour_end=0, geo = 'US-WI')"
   ]
  },
  {
   "cell_type": "code",
   "execution_count": 57,
   "metadata": {
    "id": "5HTSmHpDpDAG"
   },
   "outputs": [],
   "source": [
    "dataWI['State']=\"WI\"\n",
    "dataWI['Timezone']=3"
   ]
  },
  {
   "cell_type": "markdown",
   "metadata": {
    "id": "rJWH1_RppZiR"
   },
   "source": [
    "26. Delaware"
   ]
  },
  {
   "cell_type": "code",
   "execution_count": 58,
   "metadata": {
    "id": "HOIawrmTpZtb"
   },
   "outputs": [],
   "source": [
    "pytrend.build_payload(kw_list, timeframe='2019-02-27 2019-03-27', geo = 'US-DE')\n",
    "dataDE = pytrend.get_historical_interest(kw_list, year_start=2019, month_start=2, day_start=27, hour_start=0, year_end=2019, month_end=3, day_end= 27, hour_end=0, geo = 'US-DE')"
   ]
  },
  {
   "cell_type": "code",
   "execution_count": 59,
   "metadata": {
    "id": "9CilNrabpZvp"
   },
   "outputs": [],
   "source": [
    "dataDE['State']=\"DE\"\n",
    "dataDE['Timezone']=4"
   ]
  },
  {
   "cell_type": "markdown",
   "metadata": {
    "id": "EbX-ymxKpveg"
   },
   "source": [
    "27. Connecticut"
   ]
  },
  {
   "cell_type": "code",
   "execution_count": 60,
   "metadata": {
    "id": "_97-TOTzpvoU"
   },
   "outputs": [],
   "source": [
    "pytrend.build_payload(kw_list, timeframe='2019-02-27 2019-03-27', geo = 'US-CT')\n",
    "dataCT = pytrend.get_historical_interest(kw_list, year_start=2019, month_start=2, day_start=27, hour_start=0, year_end=2019, month_end=3, day_end= 27, hour_end=0, geo = 'US-CT')"
   ]
  },
  {
   "cell_type": "code",
   "execution_count": 61,
   "metadata": {
    "id": "5sGvriojpvu9"
   },
   "outputs": [],
   "source": [
    "dataCT['State']=\"CT\"\n",
    "dataCT['Timezone']=4"
   ]
  },
  {
   "cell_type": "markdown",
   "metadata": {
    "id": "6Bez8MdXqDJ1"
   },
   "source": [
    "28. Tennessee"
   ]
  },
  {
   "cell_type": "code",
   "execution_count": 62,
   "metadata": {
    "id": "7rt3oYceqDXd"
   },
   "outputs": [],
   "source": [
    "pytrend.build_payload(kw_list, timeframe='2019-02-27 2019-03-27', geo = 'US-TN')\n",
    "dataTN = pytrend.get_historical_interest(kw_list, year_start=2019, month_start=2, day_start=27, hour_start=0, year_end=2019, month_end=3, day_end= 27, hour_end=0, geo = 'US-TN')"
   ]
  },
  {
   "cell_type": "code",
   "execution_count": 63,
   "metadata": {
    "id": "5aFng9d3qDfN"
   },
   "outputs": [],
   "source": [
    "dataTN['State']=\"TN\"\n",
    "dataTN['Timezone']=3"
   ]
  },
  {
   "cell_type": "markdown",
   "metadata": {
    "id": "M3YFSsXDqhf8"
   },
   "source": [
    "29. Misisipy"
   ]
  },
  {
   "cell_type": "code",
   "execution_count": 64,
   "metadata": {
    "id": "uxsBztyzqho6"
   },
   "outputs": [],
   "source": [
    "pytrend.build_payload(kw_list, timeframe='2019-02-27 2019-03-27', geo = 'US-MS')\n",
    "dataMS = pytrend.get_historical_interest(kw_list, year_start=2019, month_start=2, day_start=27, hour_start=0, year_end=2019, month_end=3, day_end= 27, hour_end=0, geo = 'US-MS')"
   ]
  },
  {
   "cell_type": "code",
   "execution_count": 65,
   "metadata": {
    "id": "UVmf5KR8qhsN"
   },
   "outputs": [],
   "source": [
    "dataMS['State']=\"MS\"\n",
    "dataMS['Timezone']=3"
   ]
  },
  {
   "cell_type": "markdown",
   "metadata": {
    "id": "3BAJ_9rNq1pA"
   },
   "source": [
    "30. Misouri"
   ]
  },
  {
   "cell_type": "code",
   "execution_count": 66,
   "metadata": {
    "id": "mrZdFEKdq10u"
   },
   "outputs": [],
   "source": [
    "pytrend.build_payload(kw_list, timeframe='2019-02-27 2019-03-27', geo = 'US-MO')\n",
    "dataMO = pytrend.get_historical_interest(kw_list, year_start=2019, month_start=2, day_start=27, hour_start=0, year_end=2019, month_end=3, day_end= 27, hour_end=0, geo = 'US-MO')"
   ]
  },
  {
   "cell_type": "code",
   "execution_count": 67,
   "metadata": {
    "id": "diUnOdszq166"
   },
   "outputs": [],
   "source": [
    "dataMO['State']=\"MO\"\n",
    "dataMO['Timezone']=3"
   ]
  },
  {
   "cell_type": "markdown",
   "metadata": {
    "id": "16IPbRkprRQu"
   },
   "source": [
    "31. Luisiana"
   ]
  },
  {
   "cell_type": "code",
   "execution_count": 68,
   "metadata": {
    "id": "ybo1U3M0rRbo"
   },
   "outputs": [],
   "source": [
    "pytrend.build_payload(kw_list, timeframe='2019-02-27 2019-03-27', geo = 'US-LA')\n",
    "dataLA = pytrend.get_historical_interest(kw_list, year_start=2019, month_start=2, day_start=27, hour_start=0, year_end=2019, month_end=3, day_end= 27, hour_end=0, geo = 'US-LA')"
   ]
  },
  {
   "cell_type": "code",
   "execution_count": 69,
   "metadata": {
    "id": "RcMxKRu9rRlc"
   },
   "outputs": [],
   "source": [
    "dataLA['State']=\"LA\"\n",
    "dataLA['Timezone']=3"
   ]
  },
  {
   "cell_type": "markdown",
   "metadata": {
    "id": "azDHIffvrjaZ"
   },
   "source": [
    "32. South Dakota"
   ]
  },
  {
   "cell_type": "code",
   "execution_count": 70,
   "metadata": {
    "id": "KCY8mWlWrjjt"
   },
   "outputs": [],
   "source": [
    "pytrend.build_payload(kw_list, timeframe='2019-02-27 2019-03-27', geo = 'US-SD')\n",
    "dataSD = pytrend.get_historical_interest(kw_list, year_start=2019, month_start=2, day_start=27, hour_start=0, year_end=2019, month_end=3, day_end= 27, hour_end=0, geo = 'US-SD')"
   ]
  },
  {
   "cell_type": "code",
   "execution_count": 71,
   "metadata": {
    "id": "TlwxX-xbrjmV"
   },
   "outputs": [],
   "source": [
    "dataSD['State']=\"SD\"\n",
    "dataSD['Timezone']=2.5"
   ]
  },
  {
   "cell_type": "markdown",
   "metadata": {
    "id": "_F2oDE3IsDjJ"
   },
   "source": [
    "33. Nebraska"
   ]
  },
  {
   "cell_type": "code",
   "execution_count": 72,
   "metadata": {
    "id": "RIbfDUuUsDsw"
   },
   "outputs": [],
   "source": [
    "pytrend.build_payload(kw_list, timeframe='2019-02-27 2019-03-27', geo = 'US-NE')\n",
    "dataNE = pytrend.get_historical_interest(kw_list, year_start=2019, month_start=2, day_start=27, hour_start=0, year_end=2019, month_end=3, day_end= 27, hour_end=0, geo = 'US-NE')"
   ]
  },
  {
   "cell_type": "code",
   "execution_count": 73,
   "metadata": {
    "id": "SOl624aqsDwP"
   },
   "outputs": [],
   "source": [
    "dataNE['State']=\"NE\"\n",
    "dataNE['Timezone']=2.5"
   ]
  },
  {
   "cell_type": "markdown",
   "metadata": {
    "id": "d_RbUTnnsRR3"
   },
   "source": [
    "34. Idaho"
   ]
  },
  {
   "cell_type": "code",
   "execution_count": 74,
   "metadata": {
    "id": "DfYTZtMesRdo"
   },
   "outputs": [],
   "source": [
    "pytrend.build_payload(kw_list, timeframe='2019-02-27 2019-03-27', geo = 'US-ID')\n",
    "dataID = pytrend.get_historical_interest(kw_list, year_start=2019, month_start=2, day_start=27, hour_start=0, year_end=2019, month_end=3, day_end= 27, hour_end=0, geo = 'US-ID')"
   ]
  },
  {
   "cell_type": "code",
   "execution_count": 75,
   "metadata": {
    "id": "eoo9FO7gsRim"
   },
   "outputs": [],
   "source": [
    "dataID['State']=\"ID\"\n",
    "dataID['Timezone']=1.5"
   ]
  },
  {
   "cell_type": "markdown",
   "metadata": {
    "id": "mkox2FCZs2E9"
   },
   "source": [
    "35. Arizona"
   ]
  },
  {
   "cell_type": "code",
   "execution_count": 76,
   "metadata": {
    "id": "ZgagJPI4s2Qv"
   },
   "outputs": [],
   "source": [
    "pytrend.build_payload(kw_list, timeframe='2019-02-27 2019-03-27', geo = 'US-AZ')\n",
    "dataAZ = pytrend.get_historical_interest(kw_list, year_start=2019, month_start=2, day_start=27, hour_start=0, year_end=2019, month_end=3, day_end= 27, hour_end=0, geo = 'US-AZ')"
   ]
  },
  {
   "cell_type": "code",
   "execution_count": 77,
   "metadata": {
    "id": "HKrTofD0s2Vy"
   },
   "outputs": [],
   "source": [
    "dataAZ['State']=\"AZ\"\n",
    "dataAZ['Timezone']=99"
   ]
  },
  {
   "cell_type": "markdown",
   "metadata": {
    "id": "mlkOhfNctUr5"
   },
   "source": [
    "36. Maryland"
   ]
  },
  {
   "cell_type": "code",
   "execution_count": 78,
   "metadata": {
    "id": "N_8o1YNytU3n"
   },
   "outputs": [],
   "source": [
    "pytrend.build_payload(kw_list, timeframe='2019-02-27 2019-03-27', geo = 'US-MD')\n",
    "dataMD = pytrend.get_historical_interest(kw_list, year_start=2019, month_start=2, day_start=27, hour_start=0, year_end=2019, month_end=3, day_end= 27, hour_end=0, geo = 'US-MD')"
   ]
  },
  {
   "cell_type": "code",
   "execution_count": 79,
   "metadata": {
    "id": "eeX0bU6ttU98"
   },
   "outputs": [],
   "source": [
    "dataMD['State']=\"MD\"\n",
    "dataMD['Timezone']=4"
   ]
  },
  {
   "cell_type": "markdown",
   "metadata": {
    "id": "S-MGGjU5thnJ"
   },
   "source": [
    "37. Washington DC"
   ]
  },
  {
   "cell_type": "code",
   "execution_count": 80,
   "metadata": {
    "id": "JcRzyVUqthzN"
   },
   "outputs": [],
   "source": [
    "pytrend.build_payload(kw_list, timeframe='2019-02-27 2019-03-27', geo = 'US-DC')\n",
    "dataDC = pytrend.get_historical_interest(kw_list, year_start=2019, month_start=2, day_start=27, hour_start=0, year_end=2019, month_end=3, day_end= 27, hour_end=0, geo = 'US-DC')"
   ]
  },
  {
   "cell_type": "code",
   "execution_count": 81,
   "metadata": {
    "id": "z2lqtezrth5G"
   },
   "outputs": [],
   "source": [
    "dataDC['State']=\"DC\"\n",
    "dataDC['Timezone']=4"
   ]
  },
  {
   "cell_type": "markdown",
   "metadata": {
    "id": "m-QUGW5QE0hD"
   },
   "source": [
    "38. Georgia"
   ]
  },
  {
   "cell_type": "code",
   "execution_count": 82,
   "metadata": {
    "id": "50BZEfNuE4gj"
   },
   "outputs": [],
   "source": [
    "pytrend.build_payload(kw_list, timeframe='2019-02-27 2019-03-27', geo = 'US-GA')\n",
    "dataGA = pytrend.get_historical_interest(kw_list, year_start=2019, month_start=2, day_start=27, hour_start=0, year_end=2019, month_end=3, day_end= 27, hour_end=0, geo = 'US-GA')"
   ]
  },
  {
   "cell_type": "code",
   "execution_count": 83,
   "metadata": {
    "id": "GHdmDoiJE4pS"
   },
   "outputs": [],
   "source": [
    "dataGA['State']=\"GA\"\n",
    "dataGA['Timezone']=4"
   ]
  },
  {
   "cell_type": "markdown",
   "metadata": {
    "id": "qHj7AMz1FQGq"
   },
   "source": [
    "39. California"
   ]
  },
  {
   "cell_type": "code",
   "execution_count": 84,
   "metadata": {
    "id": "YRnexXXTFQac"
   },
   "outputs": [],
   "source": [
    "pytrend.build_payload(kw_list, timeframe='2019-02-27 2019-03-27', geo = 'US-CA')\n",
    "dataCA = pytrend.get_historical_interest(kw_list, year_start=2019, month_start=2, day_start=27, hour_start=0, year_end=2019, month_end=3, day_end= 27, hour_end=0, geo = 'US-CA')"
   ]
  },
  {
   "cell_type": "code",
   "execution_count": 85,
   "metadata": {
    "id": "vv6hSC4NFQg8"
   },
   "outputs": [],
   "source": [
    "dataCA['State']=\"CA\"\n",
    "dataCA['Timezone']=1"
   ]
  },
  {
   "cell_type": "markdown",
   "metadata": {
    "id": "kDsYU1oLFcBz"
   },
   "source": [
    "40. Wyoming"
   ]
  },
  {
   "cell_type": "code",
   "execution_count": 86,
   "metadata": {
    "id": "yyM-HI2bFcQ9"
   },
   "outputs": [],
   "source": [
    "pytrend.build_payload(kw_list, timeframe='2019-02-27 2019-03-27', geo = 'US-WY')\n",
    "dataWY = pytrend.get_historical_interest(kw_list, year_start=2019, month_start=2, day_start=27, hour_start=0, year_end=2019, month_end=3, day_end= 27, hour_end=0, geo = 'US-WY')"
   ]
  },
  {
   "cell_type": "code",
   "execution_count": 87,
   "metadata": {
    "id": "RGKoknGKFcZw"
   },
   "outputs": [],
   "source": [
    "dataWY['State']=\"WY\"\n",
    "dataWY['Timezone']=2"
   ]
  },
  {
   "cell_type": "markdown",
   "metadata": {
    "id": "T2NNIj33Fqtp"
   },
   "source": [
    "41. Texas"
   ]
  },
  {
   "cell_type": "code",
   "execution_count": 88,
   "metadata": {
    "id": "oOaqhcTlFq55"
   },
   "outputs": [],
   "source": [
    "pytrend.build_payload(kw_list, timeframe='2019-02-27 2019-03-27', geo = 'US-TX')\n",
    "dataTX = pytrend.get_historical_interest(kw_list, year_start=2019, month_start=2, day_start=27, hour_start=0, year_end=2019, month_end=3, day_end= 27, hour_end=0, geo = 'US-TX')"
   ]
  },
  {
   "cell_type": "code",
   "execution_count": 89,
   "metadata": {
    "id": "xFxctvR2Fq8w"
   },
   "outputs": [],
   "source": [
    "dataTX['State']=\"TX\"\n",
    "dataTX['Timezone']=3"
   ]
  },
  {
   "cell_type": "markdown",
   "metadata": {
    "id": "8ITLlsNdIuQs"
   },
   "source": [
    "42. Washington"
   ]
  },
  {
   "cell_type": "code",
   "execution_count": 90,
   "metadata": {
    "id": "-Qz8A3eMIubp"
   },
   "outputs": [],
   "source": [
    "pytrend.build_payload(kw_list, timeframe='2019-02-27 2019-03-27', geo = 'US-WA')\n",
    "dataWA = pytrend.get_historical_interest(kw_list, year_start=2019, month_start=2, day_start=27, hour_start=0, year_end=2019, month_end=3, day_end= 27, hour_end=0, geo = 'US-WA')"
   ]
  },
  {
   "cell_type": "code",
   "execution_count": 91,
   "metadata": {
    "id": "lcT2iEWMIuh5"
   },
   "outputs": [],
   "source": [
    "dataWA['State']=\"WA\"\n",
    "dataWA['Timezone']=1"
   ]
  },
  {
   "cell_type": "markdown",
   "metadata": {
    "id": "FSmwTDw2F2Tz"
   },
   "source": [
    "43. Oregon"
   ]
  },
  {
   "cell_type": "code",
   "execution_count": 92,
   "metadata": {
    "id": "by2QG-oBF2fI"
   },
   "outputs": [],
   "source": [
    "pytrend.build_payload(kw_list, timeframe='2019-02-27 2019-03-27', geo = 'US-OR')\n",
    "dataOR = pytrend.get_historical_interest(kw_list, year_start=2019, month_start=2, day_start=27, hour_start=0, year_end=2019, month_end=3, day_end= 27, hour_end=0, geo = 'US-OR')"
   ]
  },
  {
   "cell_type": "code",
   "execution_count": 93,
   "metadata": {
    "id": "uLppAcQxF2ki"
   },
   "outputs": [],
   "source": [
    "dataOR['State']=\"OR\"\n",
    "dataOR['Timezone']=1"
   ]
  },
  {
   "cell_type": "markdown",
   "metadata": {
    "id": "7t1PCcMPF_Fo"
   },
   "source": [
    "44. Montana"
   ]
  },
  {
   "cell_type": "code",
   "execution_count": 94,
   "metadata": {
    "id": "e0Vueh4AF_O_"
   },
   "outputs": [],
   "source": [
    "pytrend.build_payload(kw_list, timeframe='2019-02-27 2019-03-27', geo = 'US-MT')\n",
    "dataMT = pytrend.get_historical_interest(kw_list, year_start=2019, month_start=2, day_start=27, hour_start=0, year_end=2019, month_end=3, day_end= 27, hour_end=0, geo = 'US-MT')"
   ]
  },
  {
   "cell_type": "code",
   "execution_count": 95,
   "metadata": {
    "id": "2jQlQeK0F_SZ"
   },
   "outputs": [],
   "source": [
    "dataMT['State']=\"MT\"\n",
    "dataMT['Timezone']=2"
   ]
  },
  {
   "cell_type": "markdown",
   "metadata": {
    "id": "zaybNsG0GJA1"
   },
   "source": [
    "45. Illinois"
   ]
  },
  {
   "cell_type": "code",
   "execution_count": 96,
   "metadata": {
    "id": "W1m0Yrw7GJKq"
   },
   "outputs": [],
   "source": [
    "pytrend.build_payload(kw_list, timeframe='2019-02-27 2019-03-27', geo = 'US-IL')\n",
    "dataIL = pytrend.get_historical_interest(kw_list, year_start=2019, month_start=2, day_start=27, hour_start=0, year_end=2019, month_end=3, day_end= 27, hour_end=0, geo = 'US-IL')"
   ]
  },
  {
   "cell_type": "code",
   "execution_count": 97,
   "metadata": {
    "id": "uLeNA_DVGJN6"
   },
   "outputs": [],
   "source": [
    "dataIL['State']=\"IL\"\n",
    "dataIL['Timezone']=3"
   ]
  },
  {
   "cell_type": "markdown",
   "metadata": {
    "id": "Kh1lnrX1E45v"
   },
   "source": [
    "46. New York"
   ]
  },
  {
   "cell_type": "code",
   "execution_count": 98,
   "metadata": {
    "id": "3GR0w3TTGWYm"
   },
   "outputs": [],
   "source": [
    "pytrend.build_payload(kw_list, timeframe='2019-02-27 2019-03-27', geo = 'US-NY')\n",
    "dataNY = pytrend.get_historical_interest(kw_list, year_start=2019, month_start=2, day_start=27, hour_start=0, year_end=2019, month_end=3, day_end= 27, hour_end=0, geo = 'US-NY')"
   ]
  },
  {
   "cell_type": "code",
   "execution_count": 99,
   "metadata": {
    "id": "6GubVA2KGWbH"
   },
   "outputs": [],
   "source": [
    "dataNY['State']=\"NY\"\n",
    "dataNY['Timezone']=4"
   ]
  },
  {
   "cell_type": "markdown",
   "metadata": {
    "id": "U29MUiKvGhjV"
   },
   "source": [
    "47. Florida"
   ]
  },
  {
   "cell_type": "code",
   "execution_count": 100,
   "metadata": {
    "id": "zHi39sIxGhtC"
   },
   "outputs": [],
   "source": [
    "pytrend.build_payload(kw_list, timeframe='2019-02-27 2019-03-27', geo = 'US-FL')\n",
    "dataFL = pytrend.get_historical_interest(kw_list, year_start=2019, month_start=2, day_start=27, hour_start=0, year_end=2019, month_end=3, day_end= 27, hour_end=0, geo = 'US-FL')"
   ]
  },
  {
   "cell_type": "code",
   "execution_count": 101,
   "metadata": {
    "id": "5WSekUd9Ghw1"
   },
   "outputs": [],
   "source": [
    "dataFL['State']=\"FL\"\n",
    "dataFL['Timezone']=4"
   ]
  },
  {
   "cell_type": "markdown",
   "metadata": {
    "id": "mkpuyG7-Gh-R"
   },
   "source": [
    "48. Kansas"
   ]
  },
  {
   "cell_type": "code",
   "execution_count": 102,
   "metadata": {
    "id": "AKP3TnMnGiMo"
   },
   "outputs": [],
   "source": [
    "pytrend.build_payload(kw_list, timeframe='2019-02-27 2019-03-27', geo = 'US-KS')\n",
    "dataKS = pytrend.get_historical_interest(kw_list, year_start=2019, month_start=2, day_start=27, hour_start=0, year_end=2019, month_end=3, day_end= 27, hour_end=0, geo = 'US-KS')"
   ]
  },
  {
   "cell_type": "code",
   "execution_count": 103,
   "metadata": {
    "id": "uA3NQs1mGiP_"
   },
   "outputs": [],
   "source": [
    "dataKS['State']=\"KS\"\n",
    "dataKS['Timezone']=3"
   ]
  },
  {
   "cell_type": "markdown",
   "metadata": {
    "id": "LVq5ny7AG2Gv"
   },
   "source": [
    "49. New Mexico"
   ]
  },
  {
   "cell_type": "code",
   "execution_count": 104,
   "metadata": {
    "id": "zOthWNoAG2Po"
   },
   "outputs": [],
   "source": [
    "pytrend.build_payload(kw_list, timeframe='2019-02-27 2019-03-27', geo = 'US-NM')\n",
    "dataNM = pytrend.get_historical_interest(kw_list, year_start=2019, month_start=2, day_start=27, hour_start=0, year_end=2019, month_end=3, day_end= 27, hour_end=0, geo = 'US-NM')"
   ]
  },
  {
   "cell_type": "code",
   "execution_count": 105,
   "metadata": {
    "id": "EmTWVAOtG2SQ"
   },
   "outputs": [],
   "source": [
    "dataNM['State']=\"NM\"\n",
    "dataNM['Timezone']=2"
   ]
  },
  {
   "cell_type": "markdown",
   "metadata": {
    "id": "bhqmDHi5eauA"
   },
   "source": [
    "Appendeamos"
   ]
  },
  {
   "cell_type": "code",
   "execution_count": 106,
   "metadata": {
    "id": "Hv095mIRcuyz"
   },
   "outputs": [],
   "source": [
    "trends2 = dataMN.append([dataKY,dataAL,dataAR,dataIA,dataND,dataIN,dataSC,dataVA,dataMA,dataMI,dataCO,dataNV,dataOK,dataPA,dataOH,dataNJ,dataWV,dataVT,dataNH,dataME,dataRI,dataNC,dataUT,dataWI,dataDE,dataCT,dataTN,dataMS,dataMO,dataLA,dataSD,dataNE,dataID,dataAZ,dataMD,dataDC,dataGA,dataCA,dataTX,dataWY,dataWA,dataOR,dataMT,dataIL,dataNY,dataFL,dataKS,dataNM])"
   ]
  },
  {
   "cell_type": "code",
   "execution_count": 107,
   "metadata": {
    "id": "1xniQTPIuolA"
   },
   "outputs": [],
   "source": [
    "trends2['date'] = trends2.index"
   ]
  },
  {
   "cell_type": "code",
   "execution_count": 108,
   "metadata": {
    "id": "G7kjnEG_uotU"
   },
   "outputs": [],
   "source": [
    "def saca_dia(datetime):\n",
    "  '''Saca día de datetime'''\n",
    "  dia = datetime.day\n",
    "  return dia\n",
    "  \n",
    "def saca_mes(datetime):\n",
    "  '''Saca mes de datetime'''\n",
    "  mes = datetime.month\n",
    "  return mes\n",
    "\n",
    "def saca_hora(datetime):\n",
    "  '''Saca hora de datetime'''\n",
    "  hora = datetime.hour\n",
    "  return hora"
   ]
  },
  {
   "cell_type": "code",
   "execution_count": 109,
   "metadata": {
    "id": "lUY3ZS34vFE9"
   },
   "outputs": [],
   "source": [
    "trends2['day'] = trends2['date'].apply(saca_dia)\n",
    "trends2['month'] = trends2['date'].apply(saca_mes)\n",
    "trends2['hour'] = trends2['date'].apply(saca_hora)"
   ]
  },
  {
   "cell_type": "code",
   "execution_count": 110,
   "metadata": {
    "colab": {
     "base_uri": "https://localhost:8080/",
     "height": 455
    },
    "id": "Vu4k5vf2ehyr",
    "outputId": "37aefd32-d277-47ab-e886-df5d30051807"
   },
   "outputs": [
    {
     "data": {
      "text/html": [
       "<div>\n",
       "<style scoped>\n",
       "    .dataframe tbody tr th:only-of-type {\n",
       "        vertical-align: middle;\n",
       "    }\n",
       "\n",
       "    .dataframe tbody tr th {\n",
       "        vertical-align: top;\n",
       "    }\n",
       "\n",
       "    .dataframe thead th {\n",
       "        text-align: right;\n",
       "    }\n",
       "</style>\n",
       "<table border=\"1\" class=\"dataframe\">\n",
       "  <thead>\n",
       "    <tr style=\"text-align: right;\">\n",
       "      <th></th>\n",
       "      <th>suicide</th>\n",
       "      <th>isPartial</th>\n",
       "      <th>State</th>\n",
       "      <th>Timezone</th>\n",
       "      <th>date</th>\n",
       "      <th>day</th>\n",
       "      <th>month</th>\n",
       "      <th>hour</th>\n",
       "    </tr>\n",
       "    <tr>\n",
       "      <th>date</th>\n",
       "      <th></th>\n",
       "      <th></th>\n",
       "      <th></th>\n",
       "      <th></th>\n",
       "      <th></th>\n",
       "      <th></th>\n",
       "      <th></th>\n",
       "      <th></th>\n",
       "    </tr>\n",
       "  </thead>\n",
       "  <tbody>\n",
       "    <tr>\n",
       "      <th>2019-02-27 00:00:00</th>\n",
       "      <td>0</td>\n",
       "      <td>False</td>\n",
       "      <td>MN</td>\n",
       "      <td>3.0</td>\n",
       "      <td>2019-02-27 00:00:00</td>\n",
       "      <td>27</td>\n",
       "      <td>2</td>\n",
       "      <td>0</td>\n",
       "    </tr>\n",
       "    <tr>\n",
       "      <th>2019-02-27 01:00:00</th>\n",
       "      <td>3</td>\n",
       "      <td>False</td>\n",
       "      <td>MN</td>\n",
       "      <td>3.0</td>\n",
       "      <td>2019-02-27 01:00:00</td>\n",
       "      <td>27</td>\n",
       "      <td>2</td>\n",
       "      <td>1</td>\n",
       "    </tr>\n",
       "    <tr>\n",
       "      <th>2019-02-27 02:00:00</th>\n",
       "      <td>5</td>\n",
       "      <td>False</td>\n",
       "      <td>MN</td>\n",
       "      <td>3.0</td>\n",
       "      <td>2019-02-27 02:00:00</td>\n",
       "      <td>27</td>\n",
       "      <td>2</td>\n",
       "      <td>2</td>\n",
       "    </tr>\n",
       "    <tr>\n",
       "      <th>2019-02-27 03:00:00</th>\n",
       "      <td>0</td>\n",
       "      <td>False</td>\n",
       "      <td>MN</td>\n",
       "      <td>3.0</td>\n",
       "      <td>2019-02-27 03:00:00</td>\n",
       "      <td>27</td>\n",
       "      <td>2</td>\n",
       "      <td>3</td>\n",
       "    </tr>\n",
       "    <tr>\n",
       "      <th>2019-02-27 04:00:00</th>\n",
       "      <td>0</td>\n",
       "      <td>False</td>\n",
       "      <td>MN</td>\n",
       "      <td>3.0</td>\n",
       "      <td>2019-02-27 04:00:00</td>\n",
       "      <td>27</td>\n",
       "      <td>2</td>\n",
       "      <td>4</td>\n",
       "    </tr>\n",
       "    <tr>\n",
       "      <th>...</th>\n",
       "      <td>...</td>\n",
       "      <td>...</td>\n",
       "      <td>...</td>\n",
       "      <td>...</td>\n",
       "      <td>...</td>\n",
       "      <td>...</td>\n",
       "      <td>...</td>\n",
       "      <td>...</td>\n",
       "    </tr>\n",
       "    <tr>\n",
       "      <th>2019-03-26 21:00:00</th>\n",
       "      <td>0</td>\n",
       "      <td>False</td>\n",
       "      <td>NM</td>\n",
       "      <td>2.0</td>\n",
       "      <td>2019-03-26 21:00:00</td>\n",
       "      <td>26</td>\n",
       "      <td>3</td>\n",
       "      <td>21</td>\n",
       "    </tr>\n",
       "    <tr>\n",
       "      <th>2019-03-26 22:00:00</th>\n",
       "      <td>0</td>\n",
       "      <td>False</td>\n",
       "      <td>NM</td>\n",
       "      <td>2.0</td>\n",
       "      <td>2019-03-26 22:00:00</td>\n",
       "      <td>26</td>\n",
       "      <td>3</td>\n",
       "      <td>22</td>\n",
       "    </tr>\n",
       "    <tr>\n",
       "      <th>2019-03-26 23:00:00</th>\n",
       "      <td>0</td>\n",
       "      <td>False</td>\n",
       "      <td>NM</td>\n",
       "      <td>2.0</td>\n",
       "      <td>2019-03-26 23:00:00</td>\n",
       "      <td>26</td>\n",
       "      <td>3</td>\n",
       "      <td>23</td>\n",
       "    </tr>\n",
       "    <tr>\n",
       "      <th>2019-03-27 00:00:00</th>\n",
       "      <td>0</td>\n",
       "      <td>False</td>\n",
       "      <td>NM</td>\n",
       "      <td>2.0</td>\n",
       "      <td>2019-03-27 00:00:00</td>\n",
       "      <td>27</td>\n",
       "      <td>3</td>\n",
       "      <td>0</td>\n",
       "    </tr>\n",
       "    <tr>\n",
       "      <th>2019-03-27 00:00:00</th>\n",
       "      <td>0</td>\n",
       "      <td>False</td>\n",
       "      <td>NM</td>\n",
       "      <td>2.0</td>\n",
       "      <td>2019-03-27 00:00:00</td>\n",
       "      <td>27</td>\n",
       "      <td>3</td>\n",
       "      <td>0</td>\n",
       "    </tr>\n",
       "  </tbody>\n",
       "</table>\n",
       "<p>33173 rows × 8 columns</p>\n",
       "</div>"
      ],
      "text/plain": [
       "                     suicide  isPartial State  Timezone                date  \\\n",
       "date                                                                          \n",
       "2019-02-27 00:00:00        0      False    MN       3.0 2019-02-27 00:00:00   \n",
       "2019-02-27 01:00:00        3      False    MN       3.0 2019-02-27 01:00:00   \n",
       "2019-02-27 02:00:00        5      False    MN       3.0 2019-02-27 02:00:00   \n",
       "2019-02-27 03:00:00        0      False    MN       3.0 2019-02-27 03:00:00   \n",
       "2019-02-27 04:00:00        0      False    MN       3.0 2019-02-27 04:00:00   \n",
       "...                      ...        ...   ...       ...                 ...   \n",
       "2019-03-26 21:00:00        0      False    NM       2.0 2019-03-26 21:00:00   \n",
       "2019-03-26 22:00:00        0      False    NM       2.0 2019-03-26 22:00:00   \n",
       "2019-03-26 23:00:00        0      False    NM       2.0 2019-03-26 23:00:00   \n",
       "2019-03-27 00:00:00        0      False    NM       2.0 2019-03-27 00:00:00   \n",
       "2019-03-27 00:00:00        0      False    NM       2.0 2019-03-27 00:00:00   \n",
       "\n",
       "                     day  month  hour  \n",
       "date                                   \n",
       "2019-02-27 00:00:00   27      2     0  \n",
       "2019-02-27 01:00:00   27      2     1  \n",
       "2019-02-27 02:00:00   27      2     2  \n",
       "2019-02-27 03:00:00   27      2     3  \n",
       "2019-02-27 04:00:00   27      2     4  \n",
       "...                  ...    ...   ...  \n",
       "2019-03-26 21:00:00   26      3    21  \n",
       "2019-03-26 22:00:00   26      3    22  \n",
       "2019-03-26 23:00:00   26      3    23  \n",
       "2019-03-27 00:00:00   27      3     0  \n",
       "2019-03-27 00:00:00   27      3     0  \n",
       "\n",
       "[33173 rows x 8 columns]"
      ]
     },
     "execution_count": 110,
     "metadata": {},
     "output_type": "execute_result"
    }
   ],
   "source": [
    "trends2"
   ]
  },
  {
   "cell_type": "code",
   "execution_count": 111,
   "metadata": {
    "id": "giATPxA3ehwB"
   },
   "outputs": [],
   "source": [
    "compression_opts = dict(method='zip', archive_name='sui19.csv')\n",
    "trends2.to_csv('sui19.zip', index=False, compression=compression_opts)"
   ]
  },
  {
   "cell_type": "code",
   "execution_count": null,
   "metadata": {},
   "outputs": [],
   "source": []
  }
 ],
 "metadata": {
  "colab": {
   "provenance": []
  },
  "kernelspec": {
   "display_name": "Python 3",
   "language": "python",
   "name": "python3"
  },
  "language_info": {
   "codemirror_mode": {
    "name": "ipython",
    "version": 3
   },
   "file_extension": ".py",
   "mimetype": "text/x-python",
   "name": "python",
   "nbconvert_exporter": "python",
   "pygments_lexer": "ipython3",
   "version": "3.9.0"
  }
 },
 "nbformat": 4,
 "nbformat_minor": 1
}
